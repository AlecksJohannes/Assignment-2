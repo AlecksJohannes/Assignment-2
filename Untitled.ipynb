{
 "cells": [
  {
   "cell_type": "code",
   "execution_count": 1,
   "metadata": {
    "collapsed": true
   },
   "outputs": [],
   "source": [
    "import pandas as pd\n",
    "import numpy as np\n",
    "from matplotlib import pyplot as plt\n",
    "from numpy import sort\n",
    "from sklearn.metrics import accuracy_score\n",
    "from sklearn.feature_selection import RFE, SelectKBest\n",
    "%matplotlib inline"
   ]
  },
  {
   "cell_type": "code",
   "execution_count": 2,
   "metadata": {
    "collapsed": true
   },
   "outputs": [],
   "source": [
    "songs_dataset = pd.read_json('MasterSongList.json')"
   ]
  },
  {
   "cell_type": "code",
   "execution_count": 3,
   "metadata": {},
   "outputs": [
    {
     "name": "stdout",
     "output_type": "stream",
     "text": [
      "6000\n"
     ]
    }
   ],
   "source": [
    "def preprocessingData():\n",
    "    global genres_dataset\n",
    "    songs_dataset.loc[:, 'genres'] = songs_dataset['genres'].apply(''.join) \n",
    "    songs_dataset.loc[:, 'genres'] = songs_dataset['genres'].apply(consolidateGenre)\n",
    "    dance_dataset = songs_dataset.loc[(songs_dataset['genres'] == 'dance') & (songs_dataset['yt_views'] > 1000)].sample(n=1500)\n",
    "    jazz_dataset = songs_dataset.loc[(songs_dataset['genres'] == 'jazz') & (songs_dataset['yt_views'] > 1000)].sample(n=1500)\n",
    "    rap_dataset = songs_dataset.loc[(songs_dataset['genres'] == 'rap') & (songs_dataset['yt_views'] > 1000)].sample(n=1500)\n",
    "    rock_dataset = songs_dataset.loc[(songs_dataset['genres'] == 'rock') & (songs_dataset['yt_views'] > 1000)].sample(n=1500)\n",
    "    genres_dataset = pd.concat([dance_dataset, jazz_dataset, rap_dataset, rock_dataset])\n",
    "    print(len(genres_dataset))\n",
    "    \n",
    "def consolidateGenre(genre):\n",
    "    if(len(genre) > 0):\n",
    "        return genre.split(':')[0]\n",
    "    else:\n",
    "        return genre\n",
    "    \n",
    "preprocessingData()"
   ]
  },
  {
   "cell_type": "code",
   "execution_count": 4,
   "metadata": {
    "collapsed": true
   },
   "outputs": [],
   "source": [
    "audio_feature_headers = ['key', \n",
    "                         'energy', \n",
    "                         'liveliness', \n",
    "                         'tempo', \n",
    "                         'speechiness', \n",
    "                         'acousticness', \n",
    "                         'instrumentalness', \n",
    "                         'time_signature', \n",
    "                         'duration', \n",
    "                         'loudness', \n",
    "                         'valence', \n",
    "                         'danceability', \n",
    "                         'mode', \n",
    "                         'time_signature_confidence', \n",
    "                         'tempo_confidence', \n",
    "                         'key_confidence', \n",
    "                         'mode_confidence',\n",
    "                         'moods',\n",
    "                         'new_context',\n",
    "                        ]\n",
    "\n",
    "audio_features_list = []\n",
    "for audio_feature in genres_dataset['audio_features']:\n",
    "    audio_features_list.append(audio_feature)\n",
    "    \n",
    "for index, mood in enumerate(genres_dataset['moods']):\n",
    "    audio_features_list[index].append(mood)\n",
    "    \n",
    "for index, context in enumerate(genres_dataset['new_context']):\n",
    "    audio_features_list[index].append(context)\n",
    "\n",
    "df_features = pd.DataFrame(audio_features_list, columns=audio_feature_headers)"
   ]
  },
  {
   "cell_type": "code",
   "execution_count": 5,
   "metadata": {
    "collapsed": true
   },
   "outputs": [],
   "source": [
    "genres_dataset['genres'].reset_index(drop=True, inplace=True)\n",
    "df_features['genres'] = genres_dataset['genres']"
   ]
  },
  {
   "cell_type": "code",
   "execution_count": 6,
   "metadata": {
    "collapsed": true
   },
   "outputs": [],
   "source": [
    "df_features.dropna(inplace=True)"
   ]
  },
  {
   "cell_type": "code",
   "execution_count": 7,
   "metadata": {
    "collapsed": true
   },
   "outputs": [],
   "source": [
    "from sklearn.preprocessing import LabelEncoder\n",
    "label_enc = LabelEncoder()"
   ]
  },
  {
   "cell_type": "code",
   "execution_count": 8,
   "metadata": {},
   "outputs": [
    {
     "data": {
      "text/html": [
       "<div>\n",
       "<style>\n",
       "    .dataframe thead tr:only-child th {\n",
       "        text-align: right;\n",
       "    }\n",
       "\n",
       "    .dataframe thead th {\n",
       "        text-align: left;\n",
       "    }\n",
       "\n",
       "    .dataframe tbody tr th {\n",
       "        vertical-align: top;\n",
       "    }\n",
       "</style>\n",
       "<table border=\"1\" class=\"dataframe\">\n",
       "  <thead>\n",
       "    <tr style=\"text-align: right;\">\n",
       "      <th></th>\n",
       "      <th>key</th>\n",
       "      <th>energy</th>\n",
       "      <th>liveliness</th>\n",
       "      <th>tempo</th>\n",
       "      <th>speechiness</th>\n",
       "      <th>acousticness</th>\n",
       "      <th>instrumentalness</th>\n",
       "      <th>time_signature</th>\n",
       "      <th>duration</th>\n",
       "      <th>loudness</th>\n",
       "      <th>valence</th>\n",
       "      <th>danceability</th>\n",
       "      <th>mode</th>\n",
       "      <th>time_signature_confidence</th>\n",
       "      <th>tempo_confidence</th>\n",
       "      <th>key_confidence</th>\n",
       "      <th>mode_confidence</th>\n",
       "      <th>moods</th>\n",
       "      <th>new_context</th>\n",
       "      <th>genres</th>\n",
       "    </tr>\n",
       "  </thead>\n",
       "  <tbody>\n",
       "    <tr>\n",
       "      <th>1</th>\n",
       "      <td>0</td>\n",
       "      <td>0.5658</td>\n",
       "      <td>0.093923</td>\n",
       "      <td>122.98</td>\n",
       "      <td>0.071402</td>\n",
       "      <td>0.194986</td>\n",
       "      <td>0.603172</td>\n",
       "      <td>1.0</td>\n",
       "      <td>4.0</td>\n",
       "      <td>508.00617</td>\n",
       "      <td>-9.469</td>\n",
       "      <td>0.254648</td>\n",
       "      <td>0.707936</td>\n",
       "      <td>0.519</td>\n",
       "      <td>0.5</td>\n",
       "      <td>0.801</td>\n",
       "      <td>1.0</td>\n",
       "      <td>53</td>\n",
       "      <td>12</td>\n",
       "      <td>0</td>\n",
       "    </tr>\n",
       "  </tbody>\n",
       "</table>\n",
       "</div>"
      ],
      "text/plain": [
       "  key  energy  liveliness   tempo  speechiness  acousticness  \\\n",
       "1   0  0.5658    0.093923  122.98     0.071402      0.194986   \n",
       "\n",
       "   instrumentalness  time_signature  duration   loudness  valence  \\\n",
       "1          0.603172             1.0       4.0  508.00617   -9.469   \n",
       "\n",
       "   danceability      mode  time_signature_confidence  tempo_confidence  \\\n",
       "1      0.254648  0.707936                      0.519               0.5   \n",
       "\n",
       "   key_confidence  mode_confidence  moods  new_context  genres  \n",
       "1           0.801              1.0     53           12       0  "
      ]
     },
     "execution_count": 8,
     "metadata": {},
     "output_type": "execute_result"
    }
   ],
   "source": [
    "df_features['new_context'] = label_enc.fit_transform(df_features['new_context'])\n",
    "df_features['genres'] = label_enc.fit_transform(df_features['genres'])\n",
    "df_features['moods'] = label_enc.fit_transform(df_features['moods'])\n",
    "df_features.head(1)"
   ]
  },
  {
   "cell_type": "code",
   "execution_count": null,
   "metadata": {
    "collapsed": true
   },
   "outputs": [],
   "source": []
  },
  {
   "cell_type": "code",
   "execution_count": 9,
   "metadata": {
    "collapsed": true
   },
   "outputs": [],
   "source": [
    "df_features_labels = df_features['genres']\n",
    "df_features = df_features.drop(['genres', \n",
    "                               ], axis=1)"
   ]
  },
  {
   "cell_type": "code",
   "execution_count": 10,
   "metadata": {},
   "outputs": [],
   "source": [
    "from sklearn.preprocessing import MinMaxScaler \n",
    "min_max_scaler = MinMaxScaler()"
   ]
  },
  {
   "cell_type": "code",
   "execution_count": 11,
   "metadata": {
    "collapsed": true
   },
   "outputs": [],
   "source": [
    "genres_features = min_max_scaler.fit_transform(df_features)\n",
    "df_features = pd.DataFrame(genres_features, columns=df_features.columns)"
   ]
  },
  {
   "cell_type": "code",
   "execution_count": 12,
   "metadata": {
    "collapsed": true
   },
   "outputs": [],
   "source": [
    "from sklearn.model_selection import train_test_split\n",
    "\n",
    "X_train, X_test, y_train, y_test = train_test_split(df_features, df_features_labels, test_size=0.33, random_state=42)"
   ]
  },
  {
   "cell_type": "code",
   "execution_count": 13,
   "metadata": {
    "collapsed": true
   },
   "outputs": [],
   "source": [
    "# Support Vector Classifier"
   ]
  },
  {
   "cell_type": "code",
   "execution_count": 14,
   "metadata": {},
   "outputs": [
    {
     "data": {
      "text/plain": [
       "SVC(C=1, cache_size=200, class_weight=None, coef0=0.0,\n",
       "  decision_function_shape=None, degree=3, gamma=1, kernel='rbf',\n",
       "  max_iter=-1, probability=False, random_state=None, shrinking=True,\n",
       "  tol=0.001, verbose=False)"
      ]
     },
     "execution_count": 14,
     "metadata": {},
     "output_type": "execute_result"
    }
   ],
   "source": [
    "from sklearn.svm import SVC\n",
    "svc = SVC(C=1, gamma=1)\n",
    "svc.fit(X_train, y_train)"
   ]
  },
  {
   "cell_type": "code",
   "execution_count": 15,
   "metadata": {
    "collapsed": true
   },
   "outputs": [],
   "source": [
    "pred = svc.predict(X_test)"
   ]
  },
  {
   "cell_type": "code",
   "execution_count": 16,
   "metadata": {},
   "outputs": [
    {
     "name": "stdout",
     "output_type": "stream",
     "text": [
      "             precision    recall  f1-score   support\n",
      "\n",
      "          0       0.77      0.75      0.76       353\n",
      "          1       0.88      0.92      0.90       392\n",
      "          2       0.83      0.81      0.82       350\n",
      "          3       0.79      0.78      0.79       283\n",
      "\n",
      "avg / total       0.82      0.82      0.82      1378\n",
      "\n"
     ]
    }
   ],
   "source": [
    "from sklearn.metrics import classification_report\n",
    "print(classification_report(y_test, pred))"
   ]
  },
  {
   "cell_type": "code",
   "execution_count": 17,
   "metadata": {
    "collapsed": true
   },
   "outputs": [],
   "source": [
    "from sklearn.model_selection import GridSearchCV\n",
    "param_grid = [\n",
    "  {'C': [1, 10, 100, 1000], 'gamma': [1, 0.1, 0.01, 0.001, 0.0001], 'kernel': ['rbf']},\n",
    " ] "
   ]
  },
  {
   "cell_type": "code",
   "execution_count": 18,
   "metadata": {
    "collapsed": true
   },
   "outputs": [],
   "source": [
    "grid_search_cv = GridSearchCV(svc, param_grid, refit=True, verbose=3)"
   ]
  },
  {
   "cell_type": "code",
   "execution_count": 19,
   "metadata": {},
   "outputs": [
    {
     "name": "stdout",
     "output_type": "stream",
     "text": [
      "Fitting 3 folds for each of 20 candidates, totalling 60 fits\n",
      "[CV] C=1, gamma=1, kernel=rbf ........................................\n",
      "[CV] ......... C=1, gamma=1, kernel=rbf, score=0.796574, total=   0.2s\n",
      "[CV] C=1, gamma=1, kernel=rbf ........................................\n"
     ]
    },
    {
     "name": "stderr",
     "output_type": "stream",
     "text": [
      "[Parallel(n_jobs=1)]: Done   1 out of   1 | elapsed:    0.2s remaining:    0.0s\n"
     ]
    },
    {
     "name": "stdout",
     "output_type": "stream",
     "text": [
      "[CV] ......... C=1, gamma=1, kernel=rbf, score=0.821697, total=   0.2s\n",
      "[CV] C=1, gamma=1, kernel=rbf ........................................\n"
     ]
    },
    {
     "name": "stderr",
     "output_type": "stream",
     "text": [
      "[Parallel(n_jobs=1)]: Done   2 out of   2 | elapsed:    0.5s remaining:    0.0s\n"
     ]
    },
    {
     "name": "stdout",
     "output_type": "stream",
     "text": [
      "[CV] ......... C=1, gamma=1, kernel=rbf, score=0.817204, total=   0.1s\n",
      "[CV] C=1, gamma=0.1, kernel=rbf ......................................\n",
      "[CV] ....... C=1, gamma=0.1, kernel=rbf, score=0.786938, total=   0.1s\n",
      "[CV] C=1, gamma=0.1, kernel=rbf ......................................\n",
      "[CV] ....... C=1, gamma=0.1, kernel=rbf, score=0.787325, total=   0.2s\n",
      "[CV] C=1, gamma=0.1, kernel=rbf ......................................\n",
      "[CV] ....... C=1, gamma=0.1, kernel=rbf, score=0.804301, total=   0.2s\n",
      "[CV] C=1, gamma=0.01, kernel=rbf .....................................\n",
      "[CV] ...... C=1, gamma=0.01, kernel=rbf, score=0.716274, total=   0.2s\n",
      "[CV] C=1, gamma=0.01, kernel=rbf .....................................\n",
      "[CV] ...... C=1, gamma=0.01, kernel=rbf, score=0.745435, total=   0.2s\n",
      "[CV] C=1, gamma=0.01, kernel=rbf .....................................\n",
      "[CV] ...... C=1, gamma=0.01, kernel=rbf, score=0.722581, total=   0.2s\n",
      "[CV] C=1, gamma=0.001, kernel=rbf ....................................\n",
      "[CV] ..... C=1, gamma=0.001, kernel=rbf, score=0.534261, total=   0.3s\n",
      "[CV] C=1, gamma=0.001, kernel=rbf ....................................\n",
      "[CV] ..... C=1, gamma=0.001, kernel=rbf, score=0.547798, total=   0.3s\n",
      "[CV] C=1, gamma=0.001, kernel=rbf ....................................\n",
      "[CV] ..... C=1, gamma=0.001, kernel=rbf, score=0.543011, total=   0.3s\n",
      "[CV] C=1, gamma=0.0001, kernel=rbf ...................................\n",
      "[CV] .... C=1, gamma=0.0001, kernel=rbf, score=0.288009, total=   0.3s\n",
      "[CV] C=1, gamma=0.0001, kernel=rbf ...................................\n",
      "[CV] .... C=1, gamma=0.0001, kernel=rbf, score=0.287863, total=   0.3s\n",
      "[CV] C=1, gamma=0.0001, kernel=rbf ...................................\n",
      "[CV] .... C=1, gamma=0.0001, kernel=rbf, score=0.288172, total=   0.3s\n",
      "[CV] C=10, gamma=1, kernel=rbf .......................................\n",
      "[CV] ........ C=10, gamma=1, kernel=rbf, score=0.776231, total=   0.2s\n",
      "[CV] C=10, gamma=1, kernel=rbf .......................................\n",
      "[CV] ........ C=10, gamma=1, kernel=rbf, score=0.818475, total=   0.2s\n",
      "[CV] C=10, gamma=1, kernel=rbf .......................................\n",
      "[CV] ........ C=10, gamma=1, kernel=rbf, score=0.808602, total=   0.2s\n",
      "[CV] C=10, gamma=0.1, kernel=rbf .....................................\n",
      "[CV] ...... C=10, gamma=0.1, kernel=rbf, score=0.796574, total=   0.1s\n",
      "[CV] C=10, gamma=0.1, kernel=rbf .....................................\n",
      "[CV] ...... C=10, gamma=0.1, kernel=rbf, score=0.800215, total=   0.1s\n",
      "[CV] C=10, gamma=0.1, kernel=rbf .....................................\n",
      "[CV] ...... C=10, gamma=0.1, kernel=rbf, score=0.824731, total=   0.1s\n",
      "[CV] C=10, gamma=0.01, kernel=rbf ....................................\n",
      "[CV] ..... C=10, gamma=0.01, kernel=rbf, score=0.780514, total=   0.1s\n",
      "[CV] C=10, gamma=0.01, kernel=rbf ....................................\n",
      "[CV] ..... C=10, gamma=0.01, kernel=rbf, score=0.776584, total=   0.2s\n",
      "[CV] C=10, gamma=0.01, kernel=rbf ....................................\n",
      "[CV] ..... C=10, gamma=0.01, kernel=rbf, score=0.797849, total=   0.1s\n",
      "[CV] C=10, gamma=0.001, kernel=rbf ...................................\n",
      "[CV] .... C=10, gamma=0.001, kernel=rbf, score=0.715203, total=   0.2s\n",
      "[CV] C=10, gamma=0.001, kernel=rbf ...................................\n",
      "[CV] .... C=10, gamma=0.001, kernel=rbf, score=0.749731, total=   0.2s\n",
      "[CV] C=10, gamma=0.001, kernel=rbf ...................................\n",
      "[CV] .... C=10, gamma=0.001, kernel=rbf, score=0.722581, total=   0.2s\n",
      "[CV] C=10, gamma=0.0001, kernel=rbf ..................................\n",
      "[CV] ... C=10, gamma=0.0001, kernel=rbf, score=0.533191, total=   0.3s\n",
      "[CV] C=10, gamma=0.0001, kernel=rbf ..................................\n",
      "[CV] ... C=10, gamma=0.0001, kernel=rbf, score=0.547798, total=   0.3s\n",
      "[CV] C=10, gamma=0.0001, kernel=rbf ..................................\n",
      "[CV] ... C=10, gamma=0.0001, kernel=rbf, score=0.543011, total=   0.3s\n",
      "[CV] C=100, gamma=1, kernel=rbf ......................................\n",
      "[CV] ....... C=100, gamma=1, kernel=rbf, score=0.760171, total=   0.2s\n",
      "[CV] C=100, gamma=1, kernel=rbf ......................................\n",
      "[CV] ....... C=100, gamma=1, kernel=rbf, score=0.795918, total=   0.2s\n",
      "[CV] C=100, gamma=1, kernel=rbf ......................................\n",
      "[CV] ....... C=100, gamma=1, kernel=rbf, score=0.777419, total=   0.2s\n",
      "[CV] C=100, gamma=0.1, kernel=rbf ....................................\n",
      "[CV] ..... C=100, gamma=0.1, kernel=rbf, score=0.789079, total=   0.2s\n",
      "[CV] C=100, gamma=0.1, kernel=rbf ....................................\n",
      "[CV] ..... C=100, gamma=0.1, kernel=rbf, score=0.795918, total=   0.2s\n",
      "[CV] C=100, gamma=0.1, kernel=rbf ....................................\n",
      "[CV] ..... C=100, gamma=0.1, kernel=rbf, score=0.824731, total=   0.2s\n",
      "[CV] C=100, gamma=0.01, kernel=rbf ...................................\n",
      "[CV] .... C=100, gamma=0.01, kernel=rbf, score=0.788009, total=   0.1s\n",
      "[CV] C=100, gamma=0.01, kernel=rbf ...................................\n",
      "[CV] .... C=100, gamma=0.01, kernel=rbf, score=0.783029, total=   0.1s\n",
      "[CV] C=100, gamma=0.01, kernel=rbf ...................................\n",
      "[CV] .... C=100, gamma=0.01, kernel=rbf, score=0.813978, total=   0.1s\n",
      "[CV] C=100, gamma=0.001, kernel=rbf ..................................\n",
      "[CV] ... C=100, gamma=0.001, kernel=rbf, score=0.781585, total=   0.1s\n",
      "[CV] C=100, gamma=0.001, kernel=rbf ..................................\n",
      "[CV] ... C=100, gamma=0.001, kernel=rbf, score=0.777658, total=   0.1s\n",
      "[CV] C=100, gamma=0.001, kernel=rbf ..................................\n",
      "[CV] ... C=100, gamma=0.001, kernel=rbf, score=0.797849, total=   0.1s\n",
      "[CV] C=100, gamma=0.0001, kernel=rbf .................................\n",
      "[CV] .. C=100, gamma=0.0001, kernel=rbf, score=0.717345, total=   0.2s\n",
      "[CV] C=100, gamma=0.0001, kernel=rbf .................................\n",
      "[CV] .. C=100, gamma=0.0001, kernel=rbf, score=0.749731, total=   0.2s\n",
      "[CV] C=100, gamma=0.0001, kernel=rbf .................................\n",
      "[CV] .. C=100, gamma=0.0001, kernel=rbf, score=0.722581, total=   0.2s\n",
      "[CV] C=1000, gamma=1, kernel=rbf .....................................\n",
      "[CV] ...... C=1000, gamma=1, kernel=rbf, score=0.760171, total=   0.2s\n",
      "[CV] C=1000, gamma=1, kernel=rbf .....................................\n",
      "[CV] ...... C=1000, gamma=1, kernel=rbf, score=0.793770, total=   0.2s\n",
      "[CV] C=1000, gamma=1, kernel=rbf .....................................\n",
      "[CV] ...... C=1000, gamma=1, kernel=rbf, score=0.777419, total=   0.2s\n",
      "[CV] C=1000, gamma=0.1, kernel=rbf ...................................\n",
      "[CV] .... C=1000, gamma=0.1, kernel=rbf, score=0.766595, total=   0.4s\n",
      "[CV] C=1000, gamma=0.1, kernel=rbf ...................................\n",
      "[CV] .... C=1000, gamma=0.1, kernel=rbf, score=0.783029, total=   0.5s\n",
      "[CV] C=1000, gamma=0.1, kernel=rbf ...................................\n",
      "[CV] .... C=1000, gamma=0.1, kernel=rbf, score=0.793548, total=   0.4s\n",
      "[CV] C=1000, gamma=0.01, kernel=rbf ..................................\n",
      "[CV] ... C=1000, gamma=0.01, kernel=rbf, score=0.796574, total=   0.2s\n",
      "[CV] C=1000, gamma=0.01, kernel=rbf ..................................\n",
      "[CV] ... C=1000, gamma=0.01, kernel=rbf, score=0.793770, total=   0.2s\n",
      "[CV] C=1000, gamma=0.01, kernel=rbf ..................................\n",
      "[CV] ... C=1000, gamma=0.01, kernel=rbf, score=0.825806, total=   0.2s\n",
      "[CV] C=1000, gamma=0.001, kernel=rbf .................................\n",
      "[CV] .. C=1000, gamma=0.001, kernel=rbf, score=0.785867, total=   0.1s\n",
      "[CV] C=1000, gamma=0.001, kernel=rbf .................................\n",
      "[CV] .. C=1000, gamma=0.001, kernel=rbf, score=0.781955, total=   0.1s\n",
      "[CV] C=1000, gamma=0.001, kernel=rbf .................................\n",
      "[CV] .. C=1000, gamma=0.001, kernel=rbf, score=0.812903, total=   0.1s\n",
      "[CV] C=1000, gamma=0.0001, kernel=rbf ................................\n",
      "[CV] . C=1000, gamma=0.0001, kernel=rbf, score=0.781585, total=   0.1s\n",
      "[CV] C=1000, gamma=0.0001, kernel=rbf ................................\n",
      "[CV] . C=1000, gamma=0.0001, kernel=rbf, score=0.778733, total=   0.1s\n",
      "[CV] C=1000, gamma=0.0001, kernel=rbf ................................\n",
      "[CV] . C=1000, gamma=0.0001, kernel=rbf, score=0.797849, total=   0.2s\n"
     ]
    },
    {
     "name": "stderr",
     "output_type": "stream",
     "text": [
      "[Parallel(n_jobs=1)]: Done  60 out of  60 | elapsed:   17.1s finished\n"
     ]
    }
   ],
   "source": [
    "result = grid_search_cv.fit(X_train, y_train)"
   ]
  },
  {
   "cell_type": "code",
   "execution_count": 20,
   "metadata": {},
   "outputs": [
    {
     "data": {
      "text/plain": [
       "{'C': 1, 'gamma': 1, 'kernel': 'rbf'}"
      ]
     },
     "execution_count": 20,
     "metadata": {},
     "output_type": "execute_result"
    }
   ],
   "source": [
    "result.best_params_"
   ]
  },
  {
   "cell_type": "code",
   "execution_count": 21,
   "metadata": {},
   "outputs": [
    {
     "data": {
      "text/plain": [
       "SVC(C=1, cache_size=200, class_weight=None, coef0=0.0,\n",
       "  decision_function_shape=None, degree=3, gamma=1, kernel='rbf',\n",
       "  max_iter=-1, probability=False, random_state=None, shrinking=True,\n",
       "  tol=0.001, verbose=False)"
      ]
     },
     "execution_count": 21,
     "metadata": {},
     "output_type": "execute_result"
    }
   ],
   "source": [
    "result.best_estimator_"
   ]
  },
  {
   "cell_type": "code",
   "execution_count": 22,
   "metadata": {},
   "outputs": [
    {
     "name": "stdout",
     "output_type": "stream",
     "text": [
      "             precision    recall  f1-score   support\n",
      "\n",
      "          0       0.72      0.75      0.73       353\n",
      "          1       0.89      0.89      0.89       392\n",
      "          2       0.79      0.75      0.77       350\n",
      "          3       0.74      0.74      0.74       283\n",
      "\n",
      "avg / total       0.79      0.79      0.79      1378\n",
      "\n"
     ]
    }
   ],
   "source": [
    "svc = SVC(C=1000, gamma=1)\n",
    "svc.fit(X_train, y_train)\n",
    "pred = svc.predict(X_test)\n",
    "print(classification_report(y_test, pred))"
   ]
  },
  {
   "cell_type": "code",
   "execution_count": 23,
   "metadata": {},
   "outputs": [
    {
     "data": {
      "text/plain": [
       "array([ 0.01247342,  0.05621553,  0.0181086 ,  0.06405621,  0.10666076,\n",
       "        0.08960384,  0.04303645,  0.00394204,  0.00135815,  0.035132  ,\n",
       "        0.07179607,  0.0297107 ,  0.09340566,  0.0230085 ,  0.02094458,\n",
       "        0.05468547,  0.02387812,  0.07090335,  0.18108054])"
      ]
     },
     "execution_count": 23,
     "metadata": {},
     "output_type": "execute_result"
    }
   ],
   "source": [
    "from sklearn.ensemble import RandomForestClassifier\n",
    "rfc = RandomForestClassifier()\n",
    "\n",
    "rfc.fit(X_train, y_train)\n",
    "rfc.feature_importances_"
   ]
  },
  {
   "cell_type": "code",
   "execution_count": 24,
   "metadata": {},
   "outputs": [
    {
     "data": {
      "text/plain": [
       "<matplotlib.axes._subplots.AxesSubplot at 0x12af93a90>"
      ]
     },
     "execution_count": 24,
     "metadata": {},
     "output_type": "execute_result"
    },
    {
     "data": {
      "image/png": "[encoded data removed]",
      "text/plain": [
       "<matplotlib.figure.Figure at 0x12af78b00>"
      ]
     },
     "metadata": {},
     "output_type": "display_data"
    }
   ],
   "source": [
    "df_importances = pd.DataFrame(np.round(rfc.feature_importances_, decimals=3), columns=['feature'])\n",
    "df_importances.plot.bar(x=df_features.columns)"
   ]
  },
  {
   "cell_type": "code",
   "execution_count": 25,
   "metadata": {},
   "outputs": [
    {
     "name": "stdout",
     "output_type": "stream",
     "text": [
      "             precision    recall  f1-score   support\n",
      "\n",
      "          0       0.83      0.80      0.81       353\n",
      "          1       0.89      0.93      0.91       392\n",
      "          2       0.83      0.83      0.83       350\n",
      "          3       0.78      0.76      0.77       283\n",
      "\n",
      "avg / total       0.84      0.84      0.84      1378\n",
      "\n"
     ]
    }
   ],
   "source": [
    "pred = rfc.predict(X_test)\n",
    "print(classification_report(y_test, pred))"
   ]
  },
  {
   "cell_type": "code",
   "execution_count": 26,
   "metadata": {},
   "outputs": [
    {
     "name": "stdout",
     "output_type": "stream",
     "text": [
      "Fitting 3 folds for each of 8 candidates, totalling 24 fits\n",
      "[CV] n_estimators=200 ................................................\n",
      "[CV] ................. n_estimators=200, score=0.851178, total=   1.1s\n",
      "[CV] n_estimators=200 ................................................\n"
     ]
    },
    {
     "name": "stderr",
     "output_type": "stream",
     "text": [
      "[Parallel(n_jobs=1)]: Done   1 out of   1 | elapsed:    1.1s remaining:    0.0s\n"
     ]
    },
    {
     "name": "stdout",
     "output_type": "stream",
     "text": [
      "[CV] ................. n_estimators=200, score=0.874329, total=   1.0s\n",
      "[CV] n_estimators=200 ................................................\n"
     ]
    },
    {
     "name": "stderr",
     "output_type": "stream",
     "text": [
      "[Parallel(n_jobs=1)]: Done   2 out of   2 | elapsed:    2.3s remaining:    0.0s\n"
     ]
    },
    {
     "name": "stdout",
     "output_type": "stream",
     "text": [
      "[CV] ................. n_estimators=200, score=0.873118, total=   1.1s\n",
      "[CV] n_estimators=700 ................................................\n",
      "[CV] ................. n_estimators=700, score=0.852248, total=   3.7s\n",
      "[CV] n_estimators=700 ................................................\n",
      "[CV] ................. n_estimators=700, score=0.874329, total=   3.7s\n",
      "[CV] n_estimators=700 ................................................\n",
      "[CV] ................. n_estimators=700, score=0.873118, total=   3.8s\n",
      "[CV] n_estimators=1000 ...............................................\n",
      "[CV] ................ n_estimators=1000, score=0.855460, total=   5.8s\n",
      "[CV] n_estimators=1000 ...............................................\n",
      "[CV] ................ n_estimators=1000, score=0.874329, total=   5.3s\n",
      "[CV] n_estimators=1000 ...............................................\n",
      "[CV] ................ n_estimators=1000, score=0.872043, total=   5.4s\n",
      "[CV] n_estimators=100 ................................................\n",
      "[CV] ................. n_estimators=100, score=0.855460, total=   0.6s\n",
      "[CV] n_estimators=100 ................................................\n",
      "[CV] ................. n_estimators=100, score=0.859291, total=   0.5s\n",
      "[CV] n_estimators=100 ................................................\n",
      "[CV] ................. n_estimators=100, score=0.868817, total=   0.5s\n",
      "[CV] n_estimators=300 ................................................\n",
      "[CV] ................. n_estimators=300, score=0.854390, total=   1.6s\n",
      "[CV] n_estimators=300 ................................................\n",
      "[CV] ................. n_estimators=300, score=0.871106, total=   1.6s\n",
      "[CV] n_estimators=300 ................................................\n",
      "[CV] ................. n_estimators=300, score=0.870968, total=   1.6s\n",
      "[CV] n_estimators=400 ................................................\n",
      "[CV] ................. n_estimators=400, score=0.852248, total=   2.1s\n",
      "[CV] n_estimators=400 ................................................\n",
      "[CV] ................. n_estimators=400, score=0.868958, total=   2.1s\n",
      "[CV] n_estimators=400 ................................................\n",
      "[CV] ................. n_estimators=400, score=0.873118, total=   2.2s\n",
      "[CV] n_estimators=800 ................................................\n",
      "[CV] ................. n_estimators=800, score=0.855460, total=   4.4s\n",
      "[CV] n_estimators=800 ................................................\n",
      "[CV] ................. n_estimators=800, score=0.864662, total=   4.3s\n",
      "[CV] n_estimators=800 ................................................\n",
      "[CV] ................. n_estimators=800, score=0.873118, total=   4.3s\n",
      "[CV] n_estimators=900 ................................................\n",
      "[CV] ................. n_estimators=900, score=0.853319, total=   4.9s\n",
      "[CV] n_estimators=900 ................................................\n",
      "[CV] ................. n_estimators=900, score=0.866810, total=   5.0s\n",
      "[CV] n_estimators=900 ................................................\n",
      "[CV] ................. n_estimators=900, score=0.876344, total=   5.0s\n"
     ]
    },
    {
     "name": "stderr",
     "output_type": "stream",
     "text": [
      "[Parallel(n_jobs=1)]: Done  24 out of  24 | elapsed:  1.3min finished\n"
     ]
    }
   ],
   "source": [
    "param_grid = {\n",
    "    'n_estimators': [200, 700, 1000, 100, 300, 400, 800, 900]\n",
    "}\n",
    "grid_search_cv = GridSearchCV(rfc, param_grid, refit=True, verbose=3)\n",
    "\n",
    "result = grid_search_cv.fit(X_train, y_train)"
   ]
  },
  {
   "cell_type": "code",
   "execution_count": 27,
   "metadata": {},
   "outputs": [
    {
     "data": {
      "text/plain": [
       "RandomForestClassifier(bootstrap=True, class_weight=None, criterion='gini',\n",
       "            max_depth=None, max_features='auto', max_leaf_nodes=None,\n",
       "            min_impurity_split=1e-07, min_samples_leaf=1,\n",
       "            min_samples_split=2, min_weight_fraction_leaf=0.0,\n",
       "            n_estimators=1000, n_jobs=1, oob_score=False,\n",
       "            random_state=None, verbose=0, warm_start=False)"
      ]
     },
     "execution_count": 27,
     "metadata": {},
     "output_type": "execute_result"
    }
   ],
   "source": [
    "result.best_estimator_"
   ]
  },
  {
   "cell_type": "code",
   "execution_count": 28,
   "metadata": {},
   "outputs": [
    {
     "data": {
      "text/plain": [
       "array([ 0.01298103,  0.07570419,  0.01988186,  0.05236024,  0.10507801,\n",
       "        0.1278201 ,  0.05271441,  0.00476901,  0.00193855,  0.03555895,\n",
       "        0.04119157,  0.02765087,  0.10065592,  0.02203022,  0.02108817,\n",
       "        0.04950707,  0.02075001,  0.07818608,  0.15013375])"
      ]
     },
     "execution_count": 28,
     "metadata": {},
     "output_type": "execute_result"
    }
   ],
   "source": [
    "from sklearn.ensemble import RandomForestClassifier\n",
    "rfc = RandomForestClassifier(bootstrap=True, class_weight=None, criterion='gini',\n",
    "            max_depth=None, max_features='auto', max_leaf_nodes=None,\n",
    "            min_impurity_split=1e-07, min_samples_leaf=1,\n",
    "            min_samples_split=2, min_weight_fraction_leaf=0.0,\n",
    "            n_estimators=100, n_jobs=1, oob_score=False, random_state=None,\n",
    "            verbose=0, warm_start=False)\n",
    "\n",
    "rfc.fit(X_train, y_train)\n",
    "rfc.feature_importances_"
   ]
  },
  {
   "cell_type": "code",
   "execution_count": 29,
   "metadata": {},
   "outputs": [
    {
     "data": {
      "text/plain": [
       "<matplotlib.axes._subplots.AxesSubplot at 0x12b8e4358>"
      ]
     },
     "execution_count": 29,
     "metadata": {},
     "output_type": "execute_result"
    },
    {
     "data": {
      "image/png": "[encoded data removed]",
      "text/plain": [
       "<matplotlib.figure.Figure at 0x12b8f3da0>"
      ]
     },
     "metadata": {},
     "output_type": "display_data"
    }
   ],
   "source": [
    "df_importances = pd.DataFrame(np.round(rfc.feature_importances_, decimals=3), columns=['feature'])\n",
    "df_importances.plot.bar(x=df_features.columns)"
   ]
  },
  {
   "cell_type": "code",
   "execution_count": 30,
   "metadata": {},
   "outputs": [
    {
     "name": "stdout",
     "output_type": "stream",
     "text": [
      "             precision    recall  f1-score   support\n",
      "\n",
      "          0       0.85      0.85      0.85       353\n",
      "          1       0.91      0.95      0.93       392\n",
      "          2       0.88      0.86      0.87       350\n",
      "          3       0.83      0.81      0.82       283\n",
      "\n",
      "avg / total       0.87      0.87      0.87      1378\n",
      "\n"
     ]
    }
   ],
   "source": [
    "pred = rfc.predict(X_test)\n",
    "print(classification_report(y_test, pred))"
   ]
  },
  {
   "cell_type": "markdown",
   "metadata": {},
   "source": [
    "# Linear Regression"
   ]
  },
  {
   "cell_type": "code",
   "execution_count": 31,
   "metadata": {
    "collapsed": true
   },
   "outputs": [],
   "source": [
    "from sklearn.linear_model import LogisticRegression"
   ]
  },
  {
   "cell_type": "code",
   "execution_count": 32,
   "metadata": {},
   "outputs": [],
   "source": [
    "lr = LogisticRegression()"
   ]
  },
  {
   "cell_type": "code",
   "execution_count": 33,
   "metadata": {},
   "outputs": [
    {
     "data": {
      "text/plain": [
       "LogisticRegression(C=1.0, class_weight=None, dual=False, fit_intercept=True,\n",
       "          intercept_scaling=1, max_iter=100, multi_class='ovr', n_jobs=1,\n",
       "          penalty='l2', random_state=None, solver='liblinear', tol=0.0001,\n",
       "          verbose=0, warm_start=False)"
      ]
     },
     "execution_count": 33,
     "metadata": {},
     "output_type": "execute_result"
    }
   ],
   "source": [
    "lr.fit(X_train, y_train)"
   ]
  },
  {
   "cell_type": "code",
   "execution_count": 34,
   "metadata": {
    "collapsed": true
   },
   "outputs": [],
   "source": [
    "pred = lr.predict(X_test)"
   ]
  },
  {
   "cell_type": "code",
   "execution_count": 35,
   "metadata": {},
   "outputs": [
    {
     "name": "stdout",
     "output_type": "stream",
     "text": [
      "             precision    recall  f1-score   support\n",
      "\n",
      "          0       0.74      0.71      0.72       353\n",
      "          1       0.86      0.91      0.89       392\n",
      "          2       0.78      0.79      0.78       350\n",
      "          3       0.75      0.71      0.73       283\n",
      "\n",
      "avg / total       0.79      0.79      0.79      1378\n",
      "\n"
     ]
    }
   ],
   "source": [
    "print(classification_report(y_test, pred))"
   ]
  },
  {
   "cell_type": "code",
   "execution_count": 36,
   "metadata": {},
   "outputs": [
    {
     "name": "stdout",
     "output_type": "stream",
     "text": [
      "Fitting 3 folds for each of 7 candidates, totalling 21 fits\n",
      "[CV] C=0.001 .........................................................\n",
      "[CV] .......................... C=0.001, score=0.596360, total=   0.0s\n",
      "[CV] C=0.001 .........................................................\n",
      "[CV] .......................... C=0.001, score=0.626208, total=   0.0s\n",
      "[CV] C=0.001 .........................................................\n",
      "[CV] .......................... C=0.001, score=0.591398, total=   0.0s\n",
      "[CV] C=0.01 ..........................................................\n",
      "[CV] ........................... C=0.01, score=0.688437, total=   0.0s\n",
      "[CV] C=0.01 ..........................................................\n",
      "[CV] ........................... C=0.01, score=0.701396, total=   0.0s\n",
      "[CV] C=0.01 ..........................................................\n",
      "[CV] ........................... C=0.01, score=0.704301, total=   0.0s\n",
      "[CV] C=0.1 ...........................................................\n",
      "[CV] ............................ C=0.1, score=0.744111, total=   0.0s\n",
      "[CV] C=0.1 ...........................................................\n",
      "[CV] ............................ C=0.1, score=0.762621, total=   0.0s\n",
      "[CV] C=0.1 ...........................................................\n",
      "[CV] ............................ C=0.1, score=0.783871, total=   0.0s\n",
      "[CV] C=1 .............................................................\n",
      "[CV] .............................. C=1, score=0.771949, total=   0.0s\n",
      "[CV] C=1 .............................................................\n",
      "[CV] .............................. C=1, score=0.779807, total=   0.0s\n",
      "[CV] C=1 .............................................................\n"
     ]
    },
    {
     "name": "stderr",
     "output_type": "stream",
     "text": [
      "[Parallel(n_jobs=1)]: Done   1 out of   1 | elapsed:    0.0s remaining:    0.0s\n",
      "[Parallel(n_jobs=1)]: Done   2 out of   2 | elapsed:    0.0s remaining:    0.0s\n"
     ]
    },
    {
     "name": "stdout",
     "output_type": "stream",
     "text": [
      "[CV] .............................. C=1, score=0.801075, total=   0.0s\n",
      "[CV] C=10 ............................................................\n",
      "[CV] ............................. C=10, score=0.781585, total=   0.0s\n",
      "[CV] C=10 ............................................................\n",
      "[CV] ............................. C=10, score=0.775510, total=   0.0s\n",
      "[CV] C=10 ............................................................\n",
      "[CV] ............................. C=10, score=0.807527, total=   0.0s\n",
      "[CV] C=100 ...........................................................\n",
      "[CV] ............................ C=100, score=0.778373, total=   0.0s\n",
      "[CV] C=100 ...........................................................\n",
      "[CV] ............................ C=100, score=0.779807, total=   0.0s\n",
      "[CV] C=100 ...........................................................\n",
      "[CV] ............................ C=100, score=0.806452, total=   0.0s\n",
      "[CV] C=1000 ..........................................................\n",
      "[CV] ........................... C=1000, score=0.778373, total=   0.0s\n",
      "[CV] C=1000 ..........................................................\n",
      "[CV] ........................... C=1000, score=0.779807, total=   0.0s\n",
      "[CV] C=1000 ..........................................................\n",
      "[CV] ........................... C=1000, score=0.806452, total=   0.0s\n"
     ]
    },
    {
     "name": "stderr",
     "output_type": "stream",
     "text": [
      "[Parallel(n_jobs=1)]: Done  21 out of  21 | elapsed:    0.6s finished\n"
     ]
    }
   ],
   "source": [
    "param_grid = {'C': [0.001, 0.01, 0.1, 1, 10, 100, 1000] }\n",
    "grid_search_cv = GridSearchCV(lr, param_grid, refit=True, verbose=3)\n",
    "\n",
    "result = grid_search_cv.fit(X_train, y_train)"
   ]
  },
  {
   "cell_type": "code",
   "execution_count": 37,
   "metadata": {},
   "outputs": [
    {
     "data": {
      "text/plain": [
       "LogisticRegression(C=10, class_weight=None, dual=False, fit_intercept=True,\n",
       "          intercept_scaling=1, max_iter=100, multi_class='ovr', n_jobs=1,\n",
       "          penalty='l2', random_state=None, solver='liblinear', tol=0.0001,\n",
       "          verbose=0, warm_start=False)"
      ]
     },
     "execution_count": 37,
     "metadata": {},
     "output_type": "execute_result"
    }
   ],
   "source": [
    "result.best_estimator_"
   ]
  },
  {
   "cell_type": "code",
   "execution_count": 38,
   "metadata": {
    "collapsed": true
   },
   "outputs": [],
   "source": [
    "lr = LogisticRegression(C=10)"
   ]
  },
  {
   "cell_type": "code",
   "execution_count": 39,
   "metadata": {},
   "outputs": [
    {
     "data": {
      "text/plain": [
       "LogisticRegression(C=10, class_weight=None, dual=False, fit_intercept=True,\n",
       "          intercept_scaling=1, max_iter=100, multi_class='ovr', n_jobs=1,\n",
       "          penalty='l2', random_state=None, solver='liblinear', tol=0.0001,\n",
       "          verbose=0, warm_start=False)"
      ]
     },
     "execution_count": 39,
     "metadata": {},
     "output_type": "execute_result"
    }
   ],
   "source": [
    "lr.fit(X_train, y_train)"
   ]
  },
  {
   "cell_type": "code",
   "execution_count": 40,
   "metadata": {
    "collapsed": true
   },
   "outputs": [],
   "source": [
    "pred = lr.predict(X_test)"
   ]
  },
  {
   "cell_type": "code",
   "execution_count": 41,
   "metadata": {},
   "outputs": [
    {
     "name": "stdout",
     "output_type": "stream",
     "text": [
      "             precision    recall  f1-score   support\n",
      "\n",
      "          0       0.74      0.71      0.72       353\n",
      "          1       0.87      0.92      0.89       392\n",
      "          2       0.78      0.80      0.79       350\n",
      "          3       0.75      0.72      0.73       283\n",
      "\n",
      "avg / total       0.79      0.79      0.79      1378\n",
      "\n"
     ]
    }
   ],
   "source": [
    "print(classification_report(y_test, pred))"
   ]
  },
  {
   "cell_type": "markdown",
   "metadata": {},
   "source": [
    "# Select From Model Logistic Regression"
   ]
  },
  {
   "cell_type": "code",
   "execution_count": 42,
   "metadata": {
    "collapsed": true
   },
   "outputs": [],
   "source": [
    "from sklearn.feature_selection import SelectFromModel"
   ]
  },
  {
   "cell_type": "code",
   "execution_count": 43,
   "metadata": {},
   "outputs": [
    {
     "ename": "TypeError",
     "evalue": "only length-1 arrays can be converted to Python scalars",
     "output_type": "error",
     "traceback": [
      "\u001b[0;31m---------------------------------------------------------------------------\u001b[0m",
      "\u001b[0;31mTypeError\u001b[0m                                 Traceback (most recent call last)",
      "\u001b[0;32m<ipython-input-43-6cc11cda5e62>\u001b[0m in \u001b[0;36m<module>\u001b[0;34m()\u001b[0m\n\u001b[1;32m     11\u001b[0m     \u001b[0mpredictions\u001b[0m \u001b[0;34m=\u001b[0m \u001b[0;34m[\u001b[0m\u001b[0mround\u001b[0m\u001b[0;34m(\u001b[0m\u001b[0mvalue\u001b[0m\u001b[0;34m)\u001b[0m \u001b[0;32mfor\u001b[0m \u001b[0mvalue\u001b[0m \u001b[0;32min\u001b[0m \u001b[0mpred_y\u001b[0m\u001b[0;34m]\u001b[0m\u001b[0;34m\u001b[0m\u001b[0m\n\u001b[1;32m     12\u001b[0m     \u001b[0maccuracy\u001b[0m \u001b[0;34m=\u001b[0m \u001b[0maccuracy_score\u001b[0m\u001b[0;34m(\u001b[0m\u001b[0my_test\u001b[0m\u001b[0;34m,\u001b[0m \u001b[0mpredictions\u001b[0m\u001b[0;34m)\u001b[0m\u001b[0;34m\u001b[0m\u001b[0m\n\u001b[0;32m---> 13\u001b[0;31m     \u001b[0mprint\u001b[0m\u001b[0;34m(\u001b[0m\u001b[0;34m\"Thresh=%.3f, n=%d, Accuracy: %.2f%%\"\u001b[0m \u001b[0;34m%\u001b[0m \u001b[0;34m(\u001b[0m\u001b[0mthresh\u001b[0m\u001b[0;34m,\u001b[0m \u001b[0mselect_X_train\u001b[0m\u001b[0;34m.\u001b[0m\u001b[0mshape\u001b[0m\u001b[0;34m[\u001b[0m\u001b[0;36m1\u001b[0m\u001b[0;34m]\u001b[0m\u001b[0;34m,\u001b[0m \u001b[0maccuracy\u001b[0m\u001b[0;34m*\u001b[0m\u001b[0;36m100.0\u001b[0m\u001b[0;34m)\u001b[0m\u001b[0;34m)\u001b[0m\u001b[0;34m\u001b[0m\u001b[0m\n\u001b[0m",
      "\u001b[0;31mTypeError\u001b[0m: only length-1 arrays can be converted to Python scalars"
     ]
    }
   ],
   "source": [
    "thresholds = sort(lr.coef_)\n",
    "for thresh in thresholds:\n",
    "    selection = SelectFromModel(lr, prefit=True)\n",
    "    select_X_train = selection.transform(X_train)\n",
    "    select_X_test = selection.transform(X_test)\n",
    "    \n",
    "    selection_model = LogisticRegression()\n",
    "    selection_model.fit(select_X_train, y_train)\n",
    "    \n",
    "    pred_y = selection_model.predict(select_X_test)\n",
    "    predictions = [round(value) for value in pred_y]\n",
    "    accuracy = accuracy_score(y_test, predictions)\n",
    "    print(\"Thresh=%.3f, n=%d, Accuracy: %.2f%%\" % (thresh, select_X_train.shape[1], accuracy*100.0))"
   ]
  },
  {
   "cell_type": "markdown",
   "metadata": {},
   "source": [
    "# SFM for RFC"
   ]
  },
  {
   "cell_type": "code",
   "execution_count": 44,
   "metadata": {},
   "outputs": [
    {
     "name": "stdout",
     "output_type": "stream",
     "text": [
      "Thresh=0.002, n=19, Accuracy: 85.20%\n",
      "Thresh=0.005, n=18, Accuracy: 83.89%\n",
      "Thresh=0.013, n=17, Accuracy: 84.03%\n",
      "Thresh=0.020, n=16, Accuracy: 85.41%\n",
      "Thresh=0.021, n=15, Accuracy: 85.41%\n",
      "Thresh=0.021, n=14, Accuracy: 84.69%\n",
      "Thresh=0.022, n=13, Accuracy: 86.57%\n",
      "Thresh=0.028, n=12, Accuracy: 87.16%\n",
      "Thresh=0.036, n=11, Accuracy: 84.83%\n",
      "Thresh=0.041, n=10, Accuracy: 85.63%\n",
      "Thresh=0.050, n=9, Accuracy: 85.49%\n",
      "Thresh=0.052, n=8, Accuracy: 85.85%\n",
      "Thresh=0.053, n=7, Accuracy: 86.87%\n",
      "Thresh=0.076, n=6, Accuracy: 88.03%\n",
      "Thresh=0.078, n=5, Accuracy: 90.28%\n",
      "Thresh=0.101, n=4, Accuracy: 79.97%\n",
      "Thresh=0.105, n=3, Accuracy: 80.62%\n",
      "Thresh=0.128, n=2, Accuracy: 67.78%\n",
      "Thresh=0.150, n=1, Accuracy: 71.99%\n"
     ]
    }
   ],
   "source": [
    "thresholds = sort(rfc.feature_importances_)\n",
    "for thresh in thresholds:\n",
    "    selection = SelectFromModel(rfc, threshold=thresh, prefit=True)\n",
    "    select_X_train = selection.transform(X_train)\n",
    "    select_X_test = selection.transform(X_test)\n",
    "    \n",
    "    selection_model = RandomForestClassifier()\n",
    "    selection_model.fit(select_X_train, y_train)\n",
    "    \n",
    "    pred_y = selection_model.predict(select_X_test)\n",
    "    predictions = [round(value) for value in pred_y]\n",
    "    accuracy = accuracy_score(y_test, predictions)\n",
    "    print(\"Thresh=%.3f, n=%d, Accuracy: %.2f%%\" % (thresh, select_X_train.shape[1], accuracy*100.0))"
   ]
  },
  {
   "cell_type": "markdown",
   "metadata": {},
   "source": [
    "# RFE for RFC"
   ]
  },
  {
   "cell_type": "code",
   "execution_count": 45,
   "metadata": {},
   "outputs": [
    {
     "name": "stdout",
     "output_type": "stream",
     "text": [
      "             precision    recall  f1-score   support\n",
      "\n",
      "          0       0.88      0.89      0.88       353\n",
      "          1       0.93      0.95      0.94       392\n",
      "          2       0.90      0.86      0.88       350\n",
      "          3       0.83      0.84      0.84       283\n",
      "\n",
      "avg / total       0.89      0.89      0.89      1378\n",
      "\n"
     ]
    }
   ],
   "source": [
    "rfe = RFE(estimator=rfc)\n",
    "rfe_model = rfe.fit(X_train, y_train)\n",
    "rfe_model.ranking_\n",
    "pred = rfe_model.predict(X_test)\n",
    "print(classification_report(y_test, pred))"
   ]
  },
  {
   "cell_type": "markdown",
   "metadata": {},
   "source": [
    "# RFE for LogReg\n"
   ]
  },
  {
   "cell_type": "code",
   "execution_count": 46,
   "metadata": {},
   "outputs": [
    {
     "name": "stdout",
     "output_type": "stream",
     "text": [
      "             precision    recall  f1-score   support\n",
      "\n",
      "          0       0.72      0.69      0.71       353\n",
      "          1       0.85      0.91      0.87       392\n",
      "          2       0.78      0.78      0.78       350\n",
      "          3       0.73      0.69      0.71       283\n",
      "\n",
      "avg / total       0.77      0.77      0.77      1378\n",
      "\n"
     ]
    }
   ],
   "source": [
    "rfe = RFE(estimator=lr)\n",
    "rfe_model = rfe.fit(X_train, y_train)\n",
    "rfe_model.ranking_\n",
    "pred = rfe_model.predict(X_test)\n",
    "print(classification_report(y_test, pred))"
   ]
  },
  {
   "cell_type": "markdown",
   "metadata": {},
   "source": [
    "# SelectKBest For SVC"
   ]
  },
  {
   "cell_type": "code",
   "execution_count": 47,
   "metadata": {},
   "outputs": [
    {
     "name": "stdout",
     "output_type": "stream",
     "text": [
      "             precision    recall  f1-score   support\n",
      "\n",
      "          0       0.60      0.49      0.54       353\n",
      "          1       0.79      0.88      0.83       392\n",
      "          2       0.51      0.59      0.55       350\n",
      "          3       0.66      0.59      0.62       283\n",
      "\n",
      "avg / total       0.64      0.65      0.64      1378\n",
      "\n"
     ]
    }
   ],
   "source": [
    "skb = SelectKBest(k=3)\n",
    "X_new = skb.fit(X_train, y_train)\n",
    "df_labels = df_features.iloc[:, X_new.get_support(indices=True)].columns\n",
    "test_df = pd.DataFrame(df_features, columns=df_labels)\n",
    "X_train, X_test, y_train, y_test = train_test_split(test_df, df_features_labels, test_size=0.33, random_state=42)\n",
    "svc = SVC(C=1, gamma=1)\n",
    "svc.fit(X_train, y_train)\n",
    "pred = svc.predict(X_test)\n",
    "print(classification_report(y_test, pred))"
   ]
  }
 ],
 "metadata": {
  "kernelspec": {
   "display_name": "Python 3",
   "language": "python",
   "name": "python3"
  },
  "language_info": {
   "codemirror_mode": {
    "name": "ipython",
    "version": 3
   },
   "file_extension": ".py",
   "mimetype": "text/x-python",
   "name": "python",
   "nbconvert_exporter": "python",
   "pygments_lexer": "ipython3",
   "version": "3.6.1"
  }
 },
 "nbformat": 4,
 "nbformat_minor": 2
}

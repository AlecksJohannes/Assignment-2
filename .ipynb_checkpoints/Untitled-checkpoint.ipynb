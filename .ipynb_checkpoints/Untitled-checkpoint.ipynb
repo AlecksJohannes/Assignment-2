{
 "cells": [
  {
   "cell_type": "code",
   "execution_count": 1,
   "metadata": {
    "collapsed": true
   },
   "outputs": [],
   "source": [
    "import pandas as pd\n",
    "import numpy as np\n",
    "from matplotlib import pyplot as plt\n",
    "from numpy import sort\n",
    "from sklearn.metrics import accuracy_score\n",
    "from sklearn.feature_selection import RFE, SelectKBest\n",
    "%matplotlib inline"
   ]
  },
  {
   "cell_type": "code",
   "execution_count": 2,
   "metadata": {
    "collapsed": true
   },
   "outputs": [],
   "source": [
    "songs_dataset = pd.read_json('MasterSongList.json')"
   ]
  },
  {
   "cell_type": "code",
   "execution_count": 3,
   "metadata": {},
   "outputs": [
    {
     "name": "stdout",
     "output_type": "stream",
     "text": [
      "6000\n"
     ]
    }
   ],
   "source": [
    "def preprocessingData():\n",
    "    global genres_dataset\n",
    "    songs_dataset.loc[:, 'genres'] = songs_dataset['genres'].apply(''.join) \n",
    "    songs_dataset.loc[:, 'genres'] = songs_dataset['genres'].apply(consolidateGenre)\n",
    "    dance_dataset = songs_dataset.loc[(songs_dataset['genres'] == 'dance') & (songs_dataset['yt_views'] > 1000)].sample(n=1500)\n",
    "    jazz_dataset = songs_dataset.loc[(songs_dataset['genres'] == 'jazz') & (songs_dataset['yt_views'] > 1000)].sample(n=1500)\n",
    "    rap_dataset = songs_dataset.loc[(songs_dataset['genres'] == 'rap') & (songs_dataset['yt_views'] > 1000)].sample(n=1500)\n",
    "    rock_dataset = songs_dataset.loc[(songs_dataset['genres'] == 'rock') & (songs_dataset['yt_views'] > 1000)].sample(n=1500)\n",
    "    genres_dataset = pd.concat([dance_dataset, jazz_dataset, rap_dataset, rock_dataset])\n",
    "    print(len(genres_dataset))\n",
    "    \n",
    "def consolidateGenre(genre):\n",
    "    if(len(genre) > 0):\n",
    "        return genre.split(':')[0]\n",
    "    else:\n",
    "        return genre\n",
    "    \n",
    "preprocessingData()"
   ]
  },
  {
   "cell_type": "code",
   "execution_count": 4,
   "metadata": {
    "collapsed": true
   },
   "outputs": [],
   "source": [
    "audio_feature_headers = ['key', \n",
    "                         'energy', \n",
    "                         'liveliness', \n",
    "                         'tempo', \n",
    "                         'speechiness', \n",
    "                         'acousticness', \n",
    "                         'instrumentalness', \n",
    "                         'time_signature', \n",
    "                         'duration', \n",
    "                         'loudness', \n",
    "                         'valence', \n",
    "                         'danceability', \n",
    "                         'mode', \n",
    "                         'time_signature_confidence', \n",
    "                         'tempo_confidence', \n",
    "                         'key_confidence', \n",
    "                         'mode_confidence',\n",
    "                        ]\n",
    "\n",
    "audio_features_list = []\n",
    "for audio_feature in genres_dataset['audio_features']:\n",
    "    audio_features_list.append(audio_feature)\n",
    "    \n",
    "df_features = pd.DataFrame(audio_features_list, columns=audio_feature_headers)"
   ]
  },
  {
   "cell_type": "code",
   "execution_count": 5,
   "metadata": {
    "collapsed": true
   },
   "outputs": [],
   "source": [
    "genres_dataset['genres'].reset_index(drop=True, inplace=True)\n",
    "df_features['genres'] = genres_dataset['genres']"
   ]
  },
  {
   "cell_type": "code",
   "execution_count": 6,
   "metadata": {
    "collapsed": true
   },
   "outputs": [],
   "source": [
    "df_features.dropna(inplace=True)"
   ]
  },
  {
   "cell_type": "code",
   "execution_count": null,
   "metadata": {
    "collapsed": true
   },
   "outputs": [],
   "source": []
  },
  {
   "cell_type": "code",
   "execution_count": 7,
   "metadata": {
    "collapsed": true
   },
   "outputs": [],
   "source": [
    "df_features_labels = df_features['genres']\n",
    "df_features = df_features.drop(['genres'], axis=1)"
   ]
  },
  {
   "cell_type": "code",
   "execution_count": 8,
   "metadata": {
    "collapsed": true
   },
   "outputs": [],
   "source": [
    "from sklearn.preprocessing import MinMaxScaler \n",
    "min_max_scaler = MinMaxScaler()"
   ]
  },
  {
   "cell_type": "code",
   "execution_count": 9,
   "metadata": {
    "collapsed": true
   },
   "outputs": [],
   "source": [
    "genres_features = min_max_scaler.fit_transform(df_features)\n",
    "df_features = pd.DataFrame(genres_features, columns=df_features.columns)"
   ]
  },
  {
   "cell_type": "code",
   "execution_count": 10,
   "metadata": {
    "collapsed": true
   },
   "outputs": [],
   "source": [
    "from sklearn.model_selection import train_test_split\n",
    "\n",
    "X_train, X_test, y_train, y_test = train_test_split(df_features, df_features_labels, test_size=0.3, random_state=42)"
   ]
  },
  {
   "cell_type": "code",
   "execution_count": 11,
   "metadata": {
    "collapsed": true
   },
   "outputs": [],
   "source": [
    "# Support Vector Classifier"
   ]
  },
  {
   "cell_type": "code",
   "execution_count": 12,
   "metadata": {},
   "outputs": [
    {
     "data": {
      "text/plain": [
       "SVC(C=1, cache_size=200, class_weight=None, coef0=0.0,\n",
       "  decision_function_shape=None, degree=3, gamma=1, kernel='rbf',\n",
       "  max_iter=-1, probability=False, random_state=None, shrinking=True,\n",
       "  tol=0.001, verbose=False)"
      ]
     },
     "execution_count": 12,
     "metadata": {},
     "output_type": "execute_result"
    }
   ],
   "source": [
    "from sklearn.svm import SVC\n",
    "svc = SVC(C=1, gamma=1)\n",
    "svc.fit(X_train, y_train)"
   ]
  },
  {
   "cell_type": "code",
   "execution_count": 13,
   "metadata": {
    "collapsed": true
   },
   "outputs": [],
   "source": [
    "pred = svc.predict(X_test)"
   ]
  },
  {
   "cell_type": "code",
   "execution_count": 14,
   "metadata": {},
   "outputs": [
    {
     "name": "stdout",
     "output_type": "stream",
     "text": [
      "             precision    recall  f1-score   support\n",
      "\n",
      "      dance       0.74      0.70      0.72       407\n",
      "       jazz       0.83      0.86      0.84       375\n",
      "        rap       0.76      0.77      0.76       335\n",
      "       rock       0.74      0.74      0.74       414\n",
      "\n",
      "avg / total       0.76      0.76      0.76      1531\n",
      "\n"
     ]
    }
   ],
   "source": [
    "from sklearn.metrics import classification_report\n",
    "print(classification_report(y_test, pred))"
   ]
  },
  {
   "cell_type": "code",
   "execution_count": 15,
   "metadata": {
    "collapsed": true
   },
   "outputs": [],
   "source": [
    "from sklearn.model_selection import GridSearchCV\n",
    "param_grid = [\n",
    "  {'C': [1, 10, 100, 1000], 'gamma': [1, 0.1, 0.01, 0.001, 0.0001], 'kernel': ['rbf']},\n",
    " ] "
   ]
  },
  {
   "cell_type": "code",
   "execution_count": 16,
   "metadata": {
    "collapsed": true
   },
   "outputs": [],
   "source": [
    "grid_search_cv = GridSearchCV(svc, param_grid, refit=True, verbose=3)"
   ]
  },
  {
   "cell_type": "code",
   "execution_count": 17,
   "metadata": {},
   "outputs": [
    {
     "name": "stdout",
     "output_type": "stream",
     "text": [
      "Fitting 3 folds for each of 20 candidates, totalling 60 fits\n",
      "[CV] C=1, gamma=1, kernel=rbf ........................................\n",
      "[CV] ......... C=1, gamma=1, kernel=rbf, score=0.760067, total=   0.3s\n",
      "[CV] C=1, gamma=1, kernel=rbf ........................................\n"
     ]
    },
    {
     "name": "stderr",
     "output_type": "stream",
     "text": [
      "[Parallel(n_jobs=1)]: Done   1 out of   1 | elapsed:    0.5s remaining:    0.0s\n"
     ]
    },
    {
     "name": "stdout",
     "output_type": "stream",
     "text": [
      "[CV] ......... C=1, gamma=1, kernel=rbf, score=0.755462, total=   0.2s\n",
      "[CV] C=1, gamma=1, kernel=rbf ........................................\n"
     ]
    },
    {
     "name": "stderr",
     "output_type": "stream",
     "text": [
      "[Parallel(n_jobs=1)]: Done   2 out of   2 | elapsed:    0.9s remaining:    0.0s\n"
     ]
    },
    {
     "name": "stdout",
     "output_type": "stream",
     "text": [
      "[CV] ......... C=1, gamma=1, kernel=rbf, score=0.757143, total=   0.3s\n",
      "[CV] C=1, gamma=0.1, kernel=rbf ......................................\n",
      "[CV] ....... C=1, gamma=0.1, kernel=rbf, score=0.760906, total=   0.3s\n",
      "[CV] C=1, gamma=0.1, kernel=rbf ......................................\n",
      "[CV] ....... C=1, gamma=0.1, kernel=rbf, score=0.747059, total=   0.2s\n",
      "[CV] C=1, gamma=0.1, kernel=rbf ......................................\n",
      "[CV] ....... C=1, gamma=0.1, kernel=rbf, score=0.739496, total=   0.3s\n",
      "[CV] C=1, gamma=0.01, kernel=rbf .....................................\n",
      "[CV] ...... C=1, gamma=0.01, kernel=rbf, score=0.744966, total=   0.3s\n",
      "[CV] C=1, gamma=0.01, kernel=rbf .....................................\n",
      "[CV] ...... C=1, gamma=0.01, kernel=rbf, score=0.715126, total=   0.3s\n",
      "[CV] C=1, gamma=0.01, kernel=rbf .....................................\n",
      "[CV] ...... C=1, gamma=0.01, kernel=rbf, score=0.704202, total=   0.4s\n",
      "[CV] C=1, gamma=0.001, kernel=rbf ....................................\n",
      "[CV] ..... C=1, gamma=0.001, kernel=rbf, score=0.399329, total=   0.5s\n",
      "[CV] C=1, gamma=0.001, kernel=rbf ....................................\n",
      "[CV] ..... C=1, gamma=0.001, kernel=rbf, score=0.407563, total=   0.4s\n",
      "[CV] C=1, gamma=0.001, kernel=rbf ....................................\n",
      "[CV] ..... C=1, gamma=0.001, kernel=rbf, score=0.394118, total=   0.4s\n",
      "[CV] C=1, gamma=0.0001, kernel=rbf ...................................\n",
      "[CV] .... C=1, gamma=0.0001, kernel=rbf, score=0.259228, total=   0.4s\n",
      "[CV] C=1, gamma=0.0001, kernel=rbf ...................................\n",
      "[CV] .... C=1, gamma=0.0001, kernel=rbf, score=0.259664, total=   0.4s\n",
      "[CV] C=1, gamma=0.0001, kernel=rbf ...................................\n",
      "[CV] .... C=1, gamma=0.0001, kernel=rbf, score=0.259664, total=   0.4s\n",
      "[CV] C=10, gamma=1, kernel=rbf .......................................\n",
      "[CV] ........ C=10, gamma=1, kernel=rbf, score=0.734060, total=   0.4s\n",
      "[CV] C=10, gamma=1, kernel=rbf .......................................\n",
      "[CV] ........ C=10, gamma=1, kernel=rbf, score=0.737815, total=   0.3s\n",
      "[CV] C=10, gamma=1, kernel=rbf .......................................\n",
      "[CV] ........ C=10, gamma=1, kernel=rbf, score=0.739496, total=   0.3s\n",
      "[CV] C=10, gamma=0.1, kernel=rbf .....................................\n",
      "[CV] ...... C=10, gamma=0.1, kernel=rbf, score=0.770134, total=   0.2s\n",
      "[CV] C=10, gamma=0.1, kernel=rbf .....................................\n",
      "[CV] ...... C=10, gamma=0.1, kernel=rbf, score=0.758824, total=   0.2s\n",
      "[CV] C=10, gamma=0.1, kernel=rbf .....................................\n",
      "[CV] ...... C=10, gamma=0.1, kernel=rbf, score=0.760504, total=   0.2s\n",
      "[CV] C=10, gamma=0.01, kernel=rbf ....................................\n",
      "[CV] ..... C=10, gamma=0.01, kernel=rbf, score=0.760067, total=   0.2s\n",
      "[CV] C=10, gamma=0.01, kernel=rbf ....................................\n",
      "[CV] ..... C=10, gamma=0.01, kernel=rbf, score=0.740336, total=   0.2s\n",
      "[CV] C=10, gamma=0.01, kernel=rbf ....................................\n",
      "[CV] ..... C=10, gamma=0.01, kernel=rbf, score=0.746218, total=   0.2s\n",
      "[CV] C=10, gamma=0.001, kernel=rbf ...................................\n",
      "[CV] .... C=10, gamma=0.001, kernel=rbf, score=0.744966, total=   0.3s\n",
      "[CV] C=10, gamma=0.001, kernel=rbf ...................................\n",
      "[CV] .... C=10, gamma=0.001, kernel=rbf, score=0.715126, total=   0.3s\n",
      "[CV] C=10, gamma=0.001, kernel=rbf ...................................\n",
      "[CV] .... C=10, gamma=0.001, kernel=rbf, score=0.704202, total=   0.3s\n",
      "[CV] C=10, gamma=0.0001, kernel=rbf ..................................\n",
      "[CV] ... C=10, gamma=0.0001, kernel=rbf, score=0.399329, total=   0.4s\n",
      "[CV] C=10, gamma=0.0001, kernel=rbf ..................................\n",
      "[CV] ... C=10, gamma=0.0001, kernel=rbf, score=0.408403, total=   0.4s\n",
      "[CV] C=10, gamma=0.0001, kernel=rbf ..................................\n",
      "[CV] ... C=10, gamma=0.0001, kernel=rbf, score=0.394958, total=   0.5s\n",
      "[CV] C=100, gamma=1, kernel=rbf ......................................\n",
      "[CV] ....... C=100, gamma=1, kernel=rbf, score=0.683725, total=   0.4s\n",
      "[CV] C=100, gamma=1, kernel=rbf ......................................\n",
      "[CV] ....... C=100, gamma=1, kernel=rbf, score=0.690756, total=   0.5s\n",
      "[CV] C=100, gamma=1, kernel=rbf ......................................\n",
      "[CV] ....... C=100, gamma=1, kernel=rbf, score=0.676471, total=   0.6s\n",
      "[CV] C=100, gamma=0.1, kernel=rbf ....................................\n",
      "[CV] ..... C=100, gamma=0.1, kernel=rbf, score=0.765101, total=   0.3s\n",
      "[CV] C=100, gamma=0.1, kernel=rbf ....................................\n",
      "[CV] ..... C=100, gamma=0.1, kernel=rbf, score=0.756303, total=   0.3s\n",
      "[CV] C=100, gamma=0.1, kernel=rbf ....................................\n",
      "[CV] ..... C=100, gamma=0.1, kernel=rbf, score=0.761345, total=   0.3s\n",
      "[CV] C=100, gamma=0.01, kernel=rbf ...................................\n",
      "[CV] .... C=100, gamma=0.01, kernel=rbf, score=0.765940, total=   0.2s\n",
      "[CV] C=100, gamma=0.01, kernel=rbf ...................................\n",
      "[CV] .... C=100, gamma=0.01, kernel=rbf, score=0.748739, total=   0.2s\n",
      "[CV] C=100, gamma=0.01, kernel=rbf ...................................\n",
      "[CV] .... C=100, gamma=0.01, kernel=rbf, score=0.757143, total=   0.3s\n",
      "[CV] C=100, gamma=0.001, kernel=rbf ..................................\n",
      "[CV] ... C=100, gamma=0.001, kernel=rbf, score=0.760067, total=   0.3s\n",
      "[CV] C=100, gamma=0.001, kernel=rbf ..................................\n",
      "[CV] ... C=100, gamma=0.001, kernel=rbf, score=0.741176, total=   0.2s\n",
      "[CV] C=100, gamma=0.001, kernel=rbf ..................................\n",
      "[CV] ... C=100, gamma=0.001, kernel=rbf, score=0.744538, total=   0.2s\n",
      "[CV] C=100, gamma=0.0001, kernel=rbf .................................\n",
      "[CV] .. C=100, gamma=0.0001, kernel=rbf, score=0.744966, total=   0.3s\n",
      "[CV] C=100, gamma=0.0001, kernel=rbf .................................\n",
      "[CV] .. C=100, gamma=0.0001, kernel=rbf, score=0.715126, total=   0.3s\n",
      "[CV] C=100, gamma=0.0001, kernel=rbf .................................\n",
      "[CV] .. C=100, gamma=0.0001, kernel=rbf, score=0.703361, total=   0.3s\n",
      "[CV] C=1000, gamma=1, kernel=rbf .....................................\n",
      "[CV] ...... C=1000, gamma=1, kernel=rbf, score=0.672819, total=   0.6s\n",
      "[CV] C=1000, gamma=1, kernel=rbf .....................................\n",
      "[CV] ...... C=1000, gamma=1, kernel=rbf, score=0.676471, total=   0.4s\n",
      "[CV] C=1000, gamma=1, kernel=rbf .....................................\n",
      "[CV] ...... C=1000, gamma=1, kernel=rbf, score=0.661345, total=   0.5s\n",
      "[CV] C=1000, gamma=0.1, kernel=rbf ...................................\n",
      "[CV] .... C=1000, gamma=0.1, kernel=rbf, score=0.734060, total=   0.8s\n",
      "[CV] C=1000, gamma=0.1, kernel=rbf ...................................\n",
      "[CV] .... C=1000, gamma=0.1, kernel=rbf, score=0.737815, total=   0.7s\n",
      "[CV] C=1000, gamma=0.1, kernel=rbf ...................................\n",
      "[CV] .... C=1000, gamma=0.1, kernel=rbf, score=0.758824, total=   0.8s\n",
      "[CV] C=1000, gamma=0.01, kernel=rbf ..................................\n",
      "[CV] ... C=1000, gamma=0.01, kernel=rbf, score=0.770134, total=   0.3s\n",
      "[CV] C=1000, gamma=0.01, kernel=rbf ..................................\n",
      "[CV] ... C=1000, gamma=0.01, kernel=rbf, score=0.757983, total=   0.3s\n",
      "[CV] C=1000, gamma=0.01, kernel=rbf ..................................\n",
      "[CV] ... C=1000, gamma=0.01, kernel=rbf, score=0.763025, total=   0.3s\n",
      "[CV] C=1000, gamma=0.001, kernel=rbf .................................\n",
      "[CV] .. C=1000, gamma=0.001, kernel=rbf, score=0.765101, total=   0.2s\n",
      "[CV] C=1000, gamma=0.001, kernel=rbf .................................\n",
      "[CV] .. C=1000, gamma=0.001, kernel=rbf, score=0.745378, total=   0.2s\n",
      "[CV] C=1000, gamma=0.001, kernel=rbf .................................\n",
      "[CV] .. C=1000, gamma=0.001, kernel=rbf, score=0.751261, total=   0.2s\n",
      "[CV] C=1000, gamma=0.0001, kernel=rbf ................................\n",
      "[CV] . C=1000, gamma=0.0001, kernel=rbf, score=0.760906, total=   0.2s\n",
      "[CV] C=1000, gamma=0.0001, kernel=rbf ................................\n",
      "[CV] . C=1000, gamma=0.0001, kernel=rbf, score=0.740336, total=   0.2s\n",
      "[CV] C=1000, gamma=0.0001, kernel=rbf ................................\n",
      "[CV] . C=1000, gamma=0.0001, kernel=rbf, score=0.744538, total=   0.3s\n"
     ]
    },
    {
     "name": "stderr",
     "output_type": "stream",
     "text": [
      "[Parallel(n_jobs=1)]: Done  60 out of  60 | elapsed:   28.5s finished\n"
     ]
    }
   ],
   "source": [
    "result = grid_search_cv.fit(X_train, y_train)"
   ]
  },
  {
   "cell_type": "code",
   "execution_count": 18,
   "metadata": {},
   "outputs": [
    {
     "name": "stdout",
     "output_type": "stream",
     "text": [
      "{'C': 1000, 'gamma': 0.01, 'kernel': 'rbf'}\n"
     ]
    }
   ],
   "source": [
    "best_params = result.best_params_\n",
    "print(best_params)"
   ]
  },
  {
   "cell_type": "code",
   "execution_count": 19,
   "metadata": {},
   "outputs": [
    {
     "data": {
      "text/plain": [
       "SVC(C=1000, cache_size=200, class_weight=None, coef0=0.0,\n",
       "  decision_function_shape=None, degree=3, gamma=0.01, kernel='rbf',\n",
       "  max_iter=-1, probability=False, random_state=None, shrinking=True,\n",
       "  tol=0.001, verbose=False)"
      ]
     },
     "execution_count": 19,
     "metadata": {},
     "output_type": "execute_result"
    }
   ],
   "source": [
    "result.best_estimator_"
   ]
  },
  {
   "cell_type": "code",
   "execution_count": 20,
   "metadata": {},
   "outputs": [
    {
     "name": "stdout",
     "output_type": "stream",
     "text": [
      "             precision    recall  f1-score   support\n",
      "\n",
      "      dance       0.76      0.73      0.74       407\n",
      "       jazz       0.81      0.87      0.84       375\n",
      "        rap       0.76      0.78      0.77       335\n",
      "       rock       0.78      0.75      0.76       414\n",
      "\n",
      "avg / total       0.78      0.78      0.78      1531\n",
      "\n"
     ]
    }
   ],
   "source": [
    "svc = SVC(C=best_params['C'], gamma=best_params['gamma'], kernel=best_params['kernel'])\n",
    "svc.fit(X_train, y_train)\n",
    "pred = svc.predict(X_test)\n",
    "print(classification_report(y_test, pred))"
   ]
  },
  {
   "cell_type": "code",
   "execution_count": 21,
   "metadata": {},
   "outputs": [
    {
     "data": {
      "text/plain": [
       "array([ 0.02004232,  0.11215195,  0.02882116,  0.08438538,  0.11405894,\n",
       "        0.12387272,  0.07115348,  0.00692262,  0.00440823,  0.05218562,\n",
       "        0.04440251,  0.0361803 ,  0.15159248,  0.03581869,  0.03556232,\n",
       "        0.05277279,  0.0256685 ])"
      ]
     },
     "execution_count": 21,
     "metadata": {},
     "output_type": "execute_result"
    }
   ],
   "source": [
    "from sklearn.ensemble import RandomForestClassifier\n",
    "rfc = RandomForestClassifier(n_estimators=5, min_samples_split=2, max_features='log2')\n",
    "\n",
    "rfc.fit(X_train, y_train)\n",
    "rfc.feature_importances_"
   ]
  },
  {
   "cell_type": "code",
   "execution_count": 22,
   "metadata": {},
   "outputs": [
    {
     "data": {
      "text/plain": [
       "<matplotlib.axes._subplots.AxesSubplot at 0x12c4ba080>"
      ]
     },
     "execution_count": 22,
     "metadata": {},
     "output_type": "execute_result"
    },
    {
     "data": {
      "image/png": "[encoded data removed]",
      "text/plain": [
       "<matplotlib.figure.Figure at 0x12c4926d8>"
      ]
     },
     "metadata": {},
     "output_type": "display_data"
    }
   ],
   "source": [
    "df_importances = pd.DataFrame(np.round(rfc.feature_importances_, decimals=3), columns=['feature'])\n",
    "df_importances.plot.bar(x=df_features.columns)"
   ]
  },
  {
   "cell_type": "code",
   "execution_count": 23,
   "metadata": {},
   "outputs": [
    {
     "name": "stdout",
     "output_type": "stream",
     "text": [
      "             precision    recall  f1-score   support\n",
      "\n",
      "      dance       0.68      0.74      0.71       407\n",
      "       jazz       0.77      0.84      0.80       375\n",
      "        rap       0.73      0.72      0.72       335\n",
      "       rock       0.77      0.65      0.71       414\n",
      "\n",
      "avg / total       0.74      0.73      0.73      1531\n",
      "\n"
     ]
    }
   ],
   "source": [
    "pred = rfc.predict(X_test)\n",
    "print(classification_report(y_test, pred))"
   ]
  },
  {
   "cell_type": "code",
   "execution_count": 24,
   "metadata": {},
   "outputs": [
    {
     "name": "stdout",
     "output_type": "stream",
     "text": [
      "Fitting 3 folds for each of 15 candidates, totalling 45 fits\n",
      "[CV] max_features=sqrt, min_samples_split=2 ..........................\n",
      "[CV] max_features=sqrt, min_samples_split=2 ..........................\n",
      "[CV] max_features=sqrt, min_samples_split=2 ..........................\n",
      "[CV] max_features=sqrt, min_samples_split=3 ..........................\n",
      "[CV]  max_features=sqrt, min_samples_split=2, score=0.733221, total=   0.1s\n",
      "[CV]  max_features=sqrt, min_samples_split=2, score=0.715126, total=   0.1s\n",
      "[CV] max_features=sqrt, min_samples_split=3 ..........................\n",
      "[CV] max_features=sqrt, min_samples_split=3 ..........................\n",
      "[CV]  max_features=sqrt, min_samples_split=2, score=0.713445, total=   0.1s\n",
      "[CV] max_features=sqrt, min_samples_split=4 ..........................\n",
      "[CV]  max_features=sqrt, min_samples_split=3, score=0.724832, total=   0.1s\n",
      "[CV] max_features=sqrt, min_samples_split=4 ..........................\n",
      "[CV]  max_features=sqrt, min_samples_split=3, score=0.726891, total=   0.1s\n",
      "[CV]  max_features=sqrt, min_samples_split=3, score=0.706723, total=   0.1s\n",
      "[CV] max_features=sqrt, min_samples_split=4 ..........................\n",
      "[CV] max_features=sqrt, min_samples_split=5 ..........................\n",
      "[CV]  max_features=sqrt, min_samples_split=4, score=0.746644, total=   0.2s\n",
      "[CV] max_features=sqrt, min_samples_split=10 .........................\n",
      "[CV]  max_features=sqrt, min_samples_split=4, score=0.709244, total=   0.2s\n",
      "[CV] max_features=sqrt, min_samples_split=10 .........................\n",
      "[CV]  max_features=sqrt, min_samples_split=4, score=0.718487, total=   0.1s\n",
      "[CV] max_features=sqrt, min_samples_split=5 ..........................\n",
      "[CV]  max_features=sqrt, min_samples_split=5, score=0.721849, total=   0.1s\n",
      "[CV] max_features=sqrt, min_samples_split=5 ..........................\n",
      "[CV]  max_features=sqrt, min_samples_split=10, score=0.712248, total=   0.1s\n",
      "[CV] max_features=sqrt, min_samples_split=10 .........................\n",
      "[CV]  max_features=sqrt, min_samples_split=10, score=0.726050, total=   0.1s\n",
      "[CV] max_features=log2, min_samples_split=2 ..........................\n",
      "[CV]  max_features=sqrt, min_samples_split=5, score=0.737416, total=   0.1s\n",
      "[CV] max_features=log2, min_samples_split=2 ..........................\n",
      "[CV]  max_features=sqrt, min_samples_split=5, score=0.726891, total=   0.1s\n",
      "[CV] max_features=log2, min_samples_split=3 ..........................\n",
      "[CV]  max_features=sqrt, min_samples_split=10, score=0.725210, total=   0.1s\n",
      "[CV] max_features=log2, min_samples_split=3 ..........................\n",
      "[CV]  max_features=log2, min_samples_split=2, score=0.726510, total=   0.1s\n",
      "[CV] max_features=log2, min_samples_split=4 ..........................\n",
      "[CV]  max_features=log2, min_samples_split=2, score=0.724370, total=   0.1s\n",
      "[CV] max_features=log2, min_samples_split=2 ..........................\n",
      "[CV]  max_features=log2, min_samples_split=3, score=0.725671, total=   0.1s\n",
      "[CV] max_features=log2, min_samples_split=3 ..........................\n",
      "[CV]  max_features=log2, min_samples_split=3, score=0.731933, total=   0.1s\n",
      "[CV] max_features=log2, min_samples_split=4 ..........................\n",
      "[CV]  max_features=log2, min_samples_split=4, score=0.721849, total=   0.1s\n",
      "[CV] max_features=log2, min_samples_split=4 ..........................\n",
      "[CV]  max_features=log2, min_samples_split=2, score=0.710924, total=   0.1s\n",
      "[CV] max_features=log2, min_samples_split=5 ..........................\n",
      "[CV]  max_features=log2, min_samples_split=3, score=0.712605, total=   0.1s\n",
      "[CV] max_features=log2, min_samples_split=5 ..........................\n",
      "[CV]  max_features=log2, min_samples_split=4, score=0.718960, total=   0.1s\n",
      "[CV]  max_features=log2, min_samples_split=4, score=0.711765, total=   0.2s\n",
      "[CV] max_features=log2, min_samples_split=10 .........................\n",
      "[CV] max_features=auto, min_samples_split=2 ..........................\n",
      "[CV]  max_features=log2, min_samples_split=5, score=0.730252, total=   0.1s\n",
      "[CV] max_features=log2, min_samples_split=10 .........................\n",
      "[CV]  max_features=log2, min_samples_split=5, score=0.743289, total=   0.1s\n",
      "[CV] max_features=log2, min_samples_split=5 ..........................\n",
      "[CV]  max_features=log2, min_samples_split=10, score=0.754622, total=   0.1s\n",
      "[CV] max_features=log2, min_samples_split=10 .........................\n",
      "[CV]  max_features=auto, min_samples_split=2, score=0.720638, total=   0.1s\n",
      "[CV] max_features=auto, min_samples_split=2 ..........................\n",
      "[CV]  max_features=log2, min_samples_split=5, score=0.738655, total=   0.1s\n",
      "[CV]  max_features=log2, min_samples_split=10, score=0.741611, total=   0.1s\n",
      "[CV] max_features=auto, min_samples_split=2 ..........................\n",
      "[CV] max_features=auto, min_samples_split=3 ..........................\n",
      "[CV]  max_features=log2, min_samples_split=10, score=0.732773, total=   0.1s\n",
      "[CV] max_features=auto, min_samples_split=4 ..........................\n",
      "[CV]  max_features=auto, min_samples_split=2, score=0.706723, total=   0.1s\n",
      "[CV] max_features=auto, min_samples_split=4 ..........................\n",
      "[CV]  max_features=auto, min_samples_split=2, score=0.711765, total=   0.1s\n",
      "[CV] max_features=auto, min_samples_split=3 ..........................\n",
      "[CV]  max_features=auto, min_samples_split=3, score=0.707563, total=   0.1s\n",
      "[CV] max_features=auto, min_samples_split=3 ..........................\n",
      "[CV]  max_features=auto, min_samples_split=4, score=0.729027, total=   0.1s\n",
      "[CV] max_features=auto, min_samples_split=4 ..........................\n",
      "[CV]  max_features=auto, min_samples_split=4, score=0.729412, total=   0.1s\n",
      "[CV] max_features=auto, min_samples_split=5 ..........................\n",
      "[CV]  max_features=auto, min_samples_split=3, score=0.739933, total=   0.1s\n",
      "[CV]  max_features=auto, min_samples_split=3, score=0.725210, total=   0.1s\n",
      "[CV] max_features=auto, min_samples_split=5 ..........................\n",
      "[CV] max_features=auto, min_samples_split=10 .........................\n",
      "[CV]  max_features=auto, min_samples_split=4, score=0.710084, total=   0.1s\n",
      "[CV]  max_features=auto, min_samples_split=5, score=0.724832, total=   0.1s\n",
      "[CV] max_features=auto, min_samples_split=10 .........................\n",
      "[CV]  max_features=auto, min_samples_split=10, score=0.724832, total=   0.1s\n",
      "[CV] max_features=auto, min_samples_split=10 .........................\n",
      "[CV]  max_features=auto, min_samples_split=5, score=0.720168, total=   0.1s\n",
      "[CV] max_features=auto, min_samples_split=5 ..........................\n",
      "[CV]  max_features=auto, min_samples_split=10, score=0.730252, total=   0.1s\n",
      "[CV]  max_features=auto, min_samples_split=10, score=0.721008, total=   0.1s\n",
      "[CV]  max_features=auto, min_samples_split=5, score=0.718487, total=   0.1s\n"
     ]
    },
    {
     "name": "stderr",
     "output_type": "stream",
     "text": [
      "[Parallel(n_jobs=-1)]: Done  38 out of  45 | elapsed:    1.6s remaining:    0.3s\n",
      "[Parallel(n_jobs=-1)]: Done  45 out of  45 | elapsed:    1.8s finished\n"
     ]
    }
   ],
   "source": [
    "param_grid = {\n",
    "    'min_samples_split': [2, 3, 4, 5, 10],\n",
    "    'max_features': ['sqrt', 'log2', 'auto']\n",
    "}\n",
    "grid_search_cv = GridSearchCV(rfc, param_grid, refit=True, verbose=3, n_jobs=-1)\n",
    "\n",
    "result = grid_search_cv.fit(X_train, y_train)"
   ]
  },
  {
   "cell_type": "code",
   "execution_count": 25,
   "metadata": {},
   "outputs": [
    {
     "name": "stdout",
     "output_type": "stream",
     "text": [
      "{'max_features': 'log2', 'min_samples_split': 10}\n"
     ]
    }
   ],
   "source": [
    "best_params = result.best_params_\n",
    "print(best_params)"
   ]
  },
  {
   "cell_type": "code",
   "execution_count": 28,
   "metadata": {},
   "outputs": [
    {
     "data": {
      "text/plain": [
       "array([ 0.00920923,  0.09478878,  0.02241742,  0.06229531,  0.14922559,\n",
       "        0.15400725,  0.07404096,  0.00512862,  0.00398773,  0.04277207,\n",
       "        0.05940746,  0.03028152,  0.13712818,  0.02570159,  0.02860823,\n",
       "        0.07837488,  0.02262518])"
      ]
     },
     "execution_count": 28,
     "metadata": {},
     "output_type": "execute_result"
    }
   ],
   "source": [
    "from sklearn.ensemble import RandomForestClassifier\n",
    "rfc = RandomForestClassifier(\n",
    "                             max_features=best_params['max_features'],\n",
    "                             min_samples_split=best_params['min_samples_split'])\n",
    "\n",
    "rfc.fit(X_train, y_train)\n",
    "rfc.feature_importances_"
   ]
  },
  {
   "cell_type": "code",
   "execution_count": 29,
   "metadata": {},
   "outputs": [
    {
     "data": {
      "text/plain": [
       "<matplotlib.axes._subplots.AxesSubplot at 0x12c847e80>"
      ]
     },
     "execution_count": 29,
     "metadata": {},
     "output_type": "execute_result"
    },
    {
     "data": {
      "image/png": "[encoded data removed]",
      "text/plain": [
       "<matplotlib.figure.Figure at 0x12c881780>"
      ]
     },
     "metadata": {},
     "output_type": "display_data"
    }
   ],
   "source": [
    "feats ={}\n",
    "for feature, importance in zip(df_features.columns, rfc.feature_importances_):\n",
    "    feats[feature] = importance \n",
    "\n",
    "importances = pd.DataFrame.from_dict(feats, orient='index').rename(columns={0: 'importances'})\n",
    "importances.sort_values(by='importances').plot(kind='bar')"
   ]
  },
  {
   "cell_type": "code",
   "execution_count": null,
   "metadata": {
    "collapsed": true
   },
   "outputs": [],
   "source": []
  },
  {
   "cell_type": "code",
   "execution_count": 30,
   "metadata": {},
   "outputs": [
    {
     "name": "stdout",
     "output_type": "stream",
     "text": [
      "             precision    recall  f1-score   support\n",
      "\n",
      "      dance       0.74      0.70      0.72       407\n",
      "       jazz       0.81      0.83      0.82       375\n",
      "        rap       0.77      0.81      0.79       335\n",
      "       rock       0.72      0.72      0.72       414\n",
      "\n",
      "avg / total       0.76      0.76      0.76      1531\n",
      "\n"
     ]
    }
   ],
   "source": [
    "pred = rfc.predict(X_test)\n",
    "print(classification_report(y_test, pred))"
   ]
  },
  {
   "cell_type": "markdown",
   "metadata": {},
   "source": [
    "# Linear Regression"
   ]
  },
  {
   "cell_type": "code",
   "execution_count": 31,
   "metadata": {
    "collapsed": true
   },
   "outputs": [],
   "source": [
    "from sklearn.linear_model import LogisticRegression"
   ]
  },
  {
   "cell_type": "code",
   "execution_count": 32,
   "metadata": {
    "collapsed": true
   },
   "outputs": [],
   "source": [
    "lr = LogisticRegression(solver='sag', multi_class='multinomial')"
   ]
  },
  {
   "cell_type": "code",
   "execution_count": 33,
   "metadata": {},
   "outputs": [
    {
     "data": {
      "text/plain": [
       "LogisticRegression(C=1.0, class_weight=None, dual=False, fit_intercept=True,\n",
       "          intercept_scaling=1, max_iter=100, multi_class='multinomial',\n",
       "          n_jobs=1, penalty='l2', random_state=None, solver='sag',\n",
       "          tol=0.0001, verbose=0, warm_start=False)"
      ]
     },
     "execution_count": 33,
     "metadata": {},
     "output_type": "execute_result"
    }
   ],
   "source": [
    "lr.fit(X_train, y_train)"
   ]
  },
  {
   "cell_type": "code",
   "execution_count": 34,
   "metadata": {
    "collapsed": true
   },
   "outputs": [],
   "source": [
    "pred = lr.predict(X_test)"
   ]
  },
  {
   "cell_type": "code",
   "execution_count": 35,
   "metadata": {},
   "outputs": [
    {
     "name": "stdout",
     "output_type": "stream",
     "text": [
      "             precision    recall  f1-score   support\n",
      "\n",
      "      dance       0.72      0.72      0.72       407\n",
      "       jazz       0.83      0.86      0.84       375\n",
      "        rap       0.76      0.76      0.76       335\n",
      "       rock       0.76      0.74      0.75       414\n",
      "\n",
      "avg / total       0.77      0.77      0.77      1531\n",
      "\n"
     ]
    }
   ],
   "source": [
    "print(classification_report(y_test, pred))"
   ]
  },
  {
   "cell_type": "code",
   "execution_count": 36,
   "metadata": {},
   "outputs": [
    {
     "name": "stdout",
     "output_type": "stream",
     "text": [
      "Fitting 3 folds for each of 42 candidates, totalling 126 fits\n",
      "[CV] C=0.001, multi_class=ovr, solver=newton-cg ......................\n",
      "[CV] C=0.001, multi_class=ovr, solver=newton-cg ......................\n",
      "[CV] C=0.001, multi_class=ovr, solver=newton-cg ......................\n",
      "[CV] C=0.001, multi_class=ovr, solver=sag ............................\n",
      "[CV]  C=0.001, multi_class=ovr, solver=sag, score=0.640101, total=   0.1s\n",
      "[CV] C=0.001, multi_class=ovr, solver=sag ............................\n",
      "[CV]  C=0.001, multi_class=ovr, solver=newton-cg, score=0.640101, total=   0.3s\n",
      "[CV] C=0.001, multi_class=ovr, solver=sag ............................\n",
      "[CV]  C=0.001, multi_class=ovr, solver=newton-cg, score=0.626891, total=   0.3s\n",
      "[CV]  C=0.001, multi_class=ovr, solver=sag, score=0.635294, total=   0.1s\n",
      "[CV] C=0.001, multi_class=ovr, solver=lbfgs ..........................\n",
      "[CV] C=0.001, multi_class=ovr, solver=lbfgs ..........................\n",
      "[CV]  C=0.001, multi_class=ovr, solver=sag, score=0.626050, total=   0.1s\n",
      "[CV] C=0.001, multi_class=ovr, solver=lbfgs ..........................\n",
      "[CV]  C=0.001, multi_class=ovr, solver=newton-cg, score=0.634454, total=   0.5s\n",
      "[CV] C=0.001, multi_class=multinomial, solver=newton-cg ..............\n",
      "[CV]  C=0.001, multi_class=ovr, solver=lbfgs, score=0.640101, total=   0.2s\n",
      "[CV] C=0.001, multi_class=multinomial, solver=newton-cg ..............\n",
      "[CV]  C=0.001, multi_class=ovr, solver=lbfgs, score=0.626891, total=   0.1s\n",
      "[CV]  C=0.001, multi_class=ovr, solver=lbfgs, score=0.634454, total=   0.2s\n",
      "[CV] C=0.001, multi_class=multinomial, solver=newton-cg ..............\n",
      "[CV] C=0.001, multi_class=multinomial, solver=sag ....................\n",
      "[CV]  C=0.001, multi_class=multinomial, solver=newton-cg, score=0.670302, total=   0.1s\n",
      "[CV] C=0.001, multi_class=multinomial, solver=sag ....................\n",
      "[CV]  C=0.001, multi_class=multinomial, solver=sag, score=0.670302, total=   0.1s\n",
      "[CV] C=0.001, multi_class=multinomial, solver=sag ....................\n",
      "[CV]  C=0.001, multi_class=multinomial, solver=newton-cg, score=0.645378, total=   0.1s\n",
      "[CV]  C=0.001, multi_class=multinomial, solver=sag, score=0.645378, total=   0.1s\n",
      "[CV] C=0.001, multi_class=multinomial, solver=lbfgs ..................\n",
      "[CV] C=0.001, multi_class=multinomial, solver=lbfgs ..................\n",
      "[CV]  C=0.001, multi_class=multinomial, solver=newton-cg, score=0.640336, total=   0.2s\n",
      "[CV] C=0.001, multi_class=multinomial, solver=lbfgs ..................\n",
      "[CV]  C=0.001, multi_class=multinomial, solver=sag, score=0.640336, total=   0.1s\n",
      "[CV] C=0.01, multi_class=ovr, solver=newton-cg .......................\n",
      "[CV]  C=0.001, multi_class=multinomial, solver=lbfgs, score=0.670302, total=   0.2s\n",
      "[CV] C=0.01, multi_class=ovr, solver=newton-cg .......................\n",
      "[CV]  C=0.001, multi_class=multinomial, solver=lbfgs, score=0.645378, total=   0.2s\n",
      "[CV] C=0.01, multi_class=ovr, solver=newton-cg .......................\n",
      "[CV]  C=0.001, multi_class=multinomial, solver=lbfgs, score=0.640336, total=   0.1s\n",
      "[CV] C=0.01, multi_class=ovr, solver=sag .............................\n",
      "[CV]  C=0.01, multi_class=ovr, solver=newton-cg, score=0.734899, total=   0.2s\n",
      "[CV] C=0.01, multi_class=ovr, solver=sag .............................\n",
      "[CV]  C=0.01, multi_class=ovr, solver=sag, score=0.734899, total=   0.1s\n",
      "[CV] C=0.01, multi_class=ovr, solver=sag .............................\n",
      "[CV]  C=0.01, multi_class=ovr, solver=newton-cg, score=0.711765, total=   0.2s\n",
      "[CV] C=0.01, multi_class=ovr, solver=lbfgs ...........................\n",
      "[CV]  C=0.01, multi_class=ovr, solver=sag, score=0.710924, total=   0.1s\n",
      "[CV]  C=0.01, multi_class=ovr, solver=sag, score=0.695798, total=   0.1s\n",
      "[CV]  C=0.01, multi_class=ovr, solver=lbfgs, score=0.734899, total=   0.1s\n",
      "[CV] C=0.01, multi_class=ovr, solver=lbfgs ...........................\n",
      "[CV]  C=0.01, multi_class=ovr, solver=newton-cg, score=0.695798, total=   0.2s\n",
      "[CV] C=0.01, multi_class=ovr, solver=lbfgs ...........................\n",
      "[CV] C=0.01, multi_class=multinomial, solver=newton-cg ...............\n",
      "[CV] C=0.01, multi_class=multinomial, solver=newton-cg ...............\n",
      "[CV]  C=0.01, multi_class=ovr, solver=lbfgs, score=0.711765, total=   0.1s\n",
      "[CV] C=0.01, multi_class=multinomial, solver=newton-cg ...............\n"
     ]
    },
    {
     "name": "stderr",
     "output_type": "stream",
     "text": [
      "[Parallel(n_jobs=-1)]: Done  24 tasks      | elapsed:    1.3s\n"
     ]
    },
    {
     "name": "stdout",
     "output_type": "stream",
     "text": [
      "[CV]  C=0.01, multi_class=ovr, solver=lbfgs, score=0.695798, total=   0.2s\n",
      "[CV] C=0.01, multi_class=multinomial, solver=sag .....................\n",
      "[CV]  C=0.01, multi_class=multinomial, solver=newton-cg, score=0.711765, total=   0.2s\n",
      "[CV] C=0.01, multi_class=multinomial, solver=sag .....................\n",
      "[CV]  C=0.01, multi_class=multinomial, solver=newton-cg, score=0.738255, total=   0.2s\n",
      "[CV] C=0.01, multi_class=multinomial, solver=sag .....................\n",
      "[CV]  C=0.01, multi_class=multinomial, solver=sag, score=0.738255, total=   0.1s\n",
      "[CV]  C=0.01, multi_class=multinomial, solver=sag, score=0.711765, total=   0.1s\n",
      "[CV] C=0.01, multi_class=multinomial, solver=lbfgs ...................\n",
      "[CV] C=0.01, multi_class=multinomial, solver=lbfgs ...................\n",
      "[CV]  C=0.01, multi_class=multinomial, solver=sag, score=0.697479, total=   0.1s\n",
      "[CV] C=0.01, multi_class=multinomial, solver=lbfgs ...................\n",
      "[CV]  C=0.01, multi_class=multinomial, solver=newton-cg, score=0.697479, total=   0.3s\n",
      "[CV] C=0.1, multi_class=ovr, solver=newton-cg ........................\n",
      "[CV]  C=0.01, multi_class=multinomial, solver=lbfgs, score=0.711765, total=   0.2s\n",
      "[CV] C=0.1, multi_class=ovr, solver=newton-cg ........................\n",
      "[CV]  C=0.01, multi_class=multinomial, solver=lbfgs, score=0.738255, total=   0.2s\n",
      "[CV] C=0.1, multi_class=ovr, solver=newton-cg ........................\n",
      "[CV]  C=0.01, multi_class=multinomial, solver=lbfgs, score=0.697479, total=   0.2s\n",
      "[CV] C=0.1, multi_class=ovr, solver=sag ..............................\n",
      "[CV]  C=0.1, multi_class=ovr, solver=sag, score=0.754195, total=   0.1s\n",
      "[CV] C=0.1, multi_class=ovr, solver=sag ..............................\n",
      "[CV]  C=0.1, multi_class=ovr, solver=newton-cg, score=0.729412, total=   0.4s\n",
      "[CV]  C=0.1, multi_class=ovr, solver=sag, score=0.729412, total=   0.1s\n",
      "[CV] C=0.1, multi_class=ovr, solver=sag ..............................\n",
      "[CV] C=0.1, multi_class=ovr, solver=lbfgs ............................\n",
      "[CV]  C=0.1, multi_class=ovr, solver=newton-cg, score=0.754195, total=   0.6s\n",
      "[CV] C=0.1, multi_class=ovr, solver=lbfgs ............................\n",
      "[CV]  C=0.1, multi_class=ovr, solver=newton-cg, score=0.729412, total=   0.5s\n",
      "[CV] C=0.1, multi_class=ovr, solver=lbfgs ............................\n",
      "[CV]  C=0.1, multi_class=ovr, solver=sag, score=0.729412, total=   0.2s\n",
      "[CV] C=0.1, multi_class=multinomial, solver=newton-cg ................\n",
      "[CV]  C=0.1, multi_class=ovr, solver=lbfgs, score=0.754195, total=   0.3s\n",
      "[CV] C=0.1, multi_class=multinomial, solver=newton-cg ................\n",
      "[CV]  C=0.1, multi_class=ovr, solver=lbfgs, score=0.729412, total=   0.3s\n",
      "[CV] C=0.1, multi_class=multinomial, solver=newton-cg ................\n",
      "[CV]  C=0.1, multi_class=ovr, solver=lbfgs, score=0.729412, total=   0.3s\n",
      "[CV] C=0.1, multi_class=multinomial, solver=sag ......................\n",
      "[CV]  C=0.1, multi_class=multinomial, solver=newton-cg, score=0.756711, total=   0.3s\n",
      "[CV] C=0.1, multi_class=multinomial, solver=sag ......................\n",
      "[CV]  C=0.1, multi_class=multinomial, solver=sag, score=0.756711, total=   0.1s\n",
      "[CV] C=0.1, multi_class=multinomial, solver=sag ......................\n",
      "[CV]  C=0.1, multi_class=multinomial, solver=sag, score=0.733613, total=   0.1s\n",
      "[CV] C=0.1, multi_class=multinomial, solver=lbfgs ....................\n",
      "[CV]  C=0.1, multi_class=multinomial, solver=newton-cg, score=0.733613, total=   0.3s\n",
      "[CV] C=0.1, multi_class=multinomial, solver=lbfgs ....................\n",
      "[CV]  C=0.1, multi_class=multinomial, solver=sag, score=0.733613, total=   0.1s\n",
      "[CV] C=0.1, multi_class=multinomial, solver=lbfgs ....................\n",
      "[CV]  C=0.1, multi_class=multinomial, solver=newton-cg, score=0.733613, total=   0.3s\n",
      "[CV] C=1, multi_class=ovr, solver=newton-cg ..........................\n",
      "[CV]  C=0.1, multi_class=multinomial, solver=lbfgs, score=0.756711, total=   0.3s\n",
      "[CV]  C=0.1, multi_class=multinomial, solver=lbfgs, score=0.733613, total=   0.3s\n",
      "[CV] C=1, multi_class=ovr, solver=newton-cg ..........................\n",
      "[CV] C=1, multi_class=ovr, solver=newton-cg ..........................\n",
      "[CV]  C=0.1, multi_class=multinomial, solver=lbfgs, score=0.733613, total=   0.3s\n",
      "[CV] C=1, multi_class=ovr, solver=sag ................................\n",
      "[CV] . C=1, multi_class=ovr, solver=sag, score=0.766779, total=   0.2s\n",
      "[CV] C=1, multi_class=ovr, solver=sag ................................\n",
      "[CV]  C=1, multi_class=ovr, solver=newton-cg, score=0.766779, total=   0.5s\n",
      "[CV] C=1, multi_class=ovr, solver=sag ................................\n",
      "[CV]  C=1, multi_class=ovr, solver=newton-cg, score=0.754622, total=   0.5s\n",
      "[CV] C=1, multi_class=ovr, solver=lbfgs ..............................\n",
      "[CV] . C=1, multi_class=ovr, solver=sag, score=0.754622, total=   0.2s\n",
      "[CV] C=1, multi_class=ovr, solver=lbfgs ..............................\n",
      "[CV]  C=1, multi_class=ovr, solver=newton-cg, score=0.742857, total=   0.5s\n",
      "[CV] C=1, multi_class=ovr, solver=lbfgs ..............................\n",
      "[CV] . C=1, multi_class=ovr, solver=sag, score=0.742857, total=   0.3s\n",
      "[CV] C=1, multi_class=multinomial, solver=newton-cg ..................\n",
      "[CV]  C=1, multi_class=ovr, solver=lbfgs, score=0.754622, total=   0.3s\n",
      "[CV] C=1, multi_class=multinomial, solver=newton-cg ..................\n",
      "[CV]  C=1, multi_class=ovr, solver=lbfgs, score=0.742857, total=   0.4s\n",
      "[CV] C=1, multi_class=multinomial, solver=newton-cg ..................\n",
      "[CV]  C=1, multi_class=multinomial, solver=newton-cg, score=0.760906, total=   0.4s\n",
      "[CV] C=1, multi_class=multinomial, solver=sag ........................\n",
      "[CV]  C=1, multi_class=ovr, solver=lbfgs, score=0.766779, total=   0.6s\n",
      "[CV] C=1, multi_class=multinomial, solver=sag ........................\n",
      "[CV]  C=1, multi_class=multinomial, solver=sag, score=0.745378, total=   0.2s\n",
      "[CV]  C=1, multi_class=multinomial, solver=sag, score=0.760906, total=   0.2s\n",
      "[CV] C=1, multi_class=multinomial, solver=sag ........................\n",
      "[CV] C=1, multi_class=multinomial, solver=lbfgs ......................\n",
      "[CV]  C=1, multi_class=multinomial, solver=newton-cg, score=0.757143, total=   0.5s\n",
      "[CV] C=1, multi_class=multinomial, solver=lbfgs ......................\n",
      "[CV]  C=1, multi_class=multinomial, solver=newton-cg, score=0.745378, total=   0.5s\n",
      "[CV] C=1, multi_class=multinomial, solver=lbfgs ......................\n",
      "[CV]  C=1, multi_class=multinomial, solver=sag, score=0.757143, total=   0.2s\n",
      "[CV] C=10, multi_class=ovr, solver=newton-cg .........................\n",
      "[CV]  C=1, multi_class=multinomial, solver=lbfgs, score=0.762584, total=   0.3s\n",
      "[CV] C=10, multi_class=ovr, solver=newton-cg .........................\n",
      "[CV]  C=1, multi_class=multinomial, solver=lbfgs, score=0.745378, total=   0.2s\n",
      "[CV] C=10, multi_class=ovr, solver=newton-cg .........................\n",
      "[CV]  C=1, multi_class=multinomial, solver=lbfgs, score=0.757143, total=   0.3s\n",
      "[CV] C=10, multi_class=ovr, solver=sag ...............................\n",
      "[CV]  C=10, multi_class=ovr, solver=newton-cg, score=0.767617, total=   0.6s\n",
      "[CV] C=10, multi_class=ovr, solver=sag ...............................\n",
      "[CV]  C=10, multi_class=ovr, solver=newton-cg, score=0.742017, total=   0.6s\n",
      "[CV] C=10, multi_class=ovr, solver=sag ...............................\n",
      "[CV]  C=10, multi_class=ovr, solver=sag, score=0.767617, total=   0.3s\n",
      "[CV] C=10, multi_class=ovr, solver=lbfgs .............................\n",
      "[CV]  C=10, multi_class=ovr, solver=newton-cg, score=0.752941, total=   0.6s\n",
      "[CV] C=10, multi_class=ovr, solver=lbfgs .............................\n",
      "[CV]  C=10, multi_class=ovr, solver=sag, score=0.752941, total=   0.3s\n",
      "[CV] C=10, multi_class=ovr, solver=lbfgs .............................\n",
      "[CV]  C=10, multi_class=ovr, solver=sag, score=0.742017, total=   0.4s\n",
      "[CV] C=10, multi_class=multinomial, solver=newton-cg .................\n",
      "[CV]  C=10, multi_class=ovr, solver=lbfgs, score=0.767617, total=   0.5s\n",
      "[CV] C=10, multi_class=multinomial, solver=newton-cg .................\n",
      "[CV]  C=10, multi_class=ovr, solver=lbfgs, score=0.742017, total=   0.6s\n",
      "[CV] C=10, multi_class=multinomial, solver=newton-cg .................\n",
      "[CV]  C=10, multi_class=multinomial, solver=newton-cg, score=0.756711, total=   0.4s\n",
      "[CV] C=10, multi_class=multinomial, solver=sag .......................\n"
     ]
    },
    {
     "name": "stdout",
     "output_type": "stream",
     "text": [
      "[CV]  C=10, multi_class=ovr, solver=lbfgs, score=0.752941, total=   0.5s\n",
      "[CV] C=10, multi_class=multinomial, solver=sag .......................\n",
      "[CV]  C=10, multi_class=multinomial, solver=sag, score=0.756711, total=   0.3s\n",
      "[CV] C=10, multi_class=multinomial, solver=sag .......................\n",
      "[CV]  C=10, multi_class=multinomial, solver=newton-cg, score=0.746218, total=   0.5s\n",
      "[CV] C=10, multi_class=multinomial, solver=lbfgs .....................\n",
      "[CV]  C=10, multi_class=multinomial, solver=sag, score=0.746218, total=   0.4s\n",
      "[CV] C=10, multi_class=multinomial, solver=lbfgs .....................\n",
      "[CV]  C=10, multi_class=multinomial, solver=newton-cg, score=0.753782, total=   0.5s\n",
      "[CV] C=10, multi_class=multinomial, solver=lbfgs .....................\n",
      "[CV]  C=10, multi_class=multinomial, solver=lbfgs, score=0.758389, total=   0.3s\n",
      "[CV]  C=10, multi_class=multinomial, solver=sag, score=0.753782, total=   0.4s\n",
      "[CV] C=100, multi_class=ovr, solver=newton-cg ........................\n",
      "[CV] C=100, multi_class=ovr, solver=newton-cg ........................\n",
      "[CV]  C=10, multi_class=multinomial, solver=lbfgs, score=0.746218, total=   0.3s\n",
      "[CV] C=100, multi_class=ovr, solver=newton-cg ........................\n",
      "[CV]  C=10, multi_class=multinomial, solver=lbfgs, score=0.755462, total=   0.3s\n",
      "[CV] C=100, multi_class=ovr, solver=sag ..............................\n",
      "[CV]  C=100, multi_class=ovr, solver=newton-cg, score=0.766779, total=   0.4s\n",
      "[CV] C=100, multi_class=ovr, solver=sag ..............................\n",
      "[CV]  C=100, multi_class=ovr, solver=newton-cg, score=0.752941, total=   0.4s\n",
      "[CV] C=100, multi_class=ovr, solver=sag ..............................\n",
      "[CV]  C=100, multi_class=ovr, solver=newton-cg, score=0.748739, total=   0.5s\n",
      "[CV] C=100, multi_class=ovr, solver=lbfgs ............................\n"
     ]
    },
    {
     "name": "stderr",
     "output_type": "stream",
     "text": [
      "/anaconda/lib/python3.6/site-packages/sklearn/linear_model/sag.py:286: ConvergenceWarning: The max_iter was reached which means the coef_ did not converge\n",
      "  \"the coef_ did not converge\", ConvergenceWarning)\n"
     ]
    },
    {
     "name": "stdout",
     "output_type": "stream",
     "text": [
      "[CV]  C=100, multi_class=ovr, solver=sag, score=0.766779, total=   0.6s\n",
      "[CV] C=100, multi_class=ovr, solver=lbfgs ............................\n"
     ]
    },
    {
     "name": "stderr",
     "output_type": "stream",
     "text": [
      "/anaconda/lib/python3.6/site-packages/sklearn/linear_model/sag.py:286: ConvergenceWarning: The max_iter was reached which means the coef_ did not converge\n",
      "  \"the coef_ did not converge\", ConvergenceWarning)\n"
     ]
    },
    {
     "name": "stdout",
     "output_type": "stream",
     "text": [
      "[CV]  C=100, multi_class=ovr, solver=sag, score=0.752941, total=   0.5s\n",
      "[CV] C=100, multi_class=ovr, solver=lbfgs ............................\n",
      "[CV]  C=100, multi_class=ovr, solver=sag, score=0.748739, total=   0.5s\n",
      "[CV] C=100, multi_class=multinomial, solver=newton-cg ................\n",
      "[CV]  C=100, multi_class=ovr, solver=lbfgs, score=0.766779, total=   0.6s\n",
      "[CV] C=100, multi_class=multinomial, solver=newton-cg ................\n",
      "[CV]  C=100, multi_class=ovr, solver=lbfgs, score=0.748739, total=   0.4s\n",
      "[CV] C=100, multi_class=multinomial, solver=newton-cg ................\n",
      "[CV]  C=100, multi_class=multinomial, solver=newton-cg, score=0.756711, total=   0.5s\n",
      "[CV] C=100, multi_class=multinomial, solver=sag ......................\n",
      "[CV]  C=100, multi_class=ovr, solver=lbfgs, score=0.752941, total=   0.7s\n",
      "[CV] C=100, multi_class=multinomial, solver=sag ......................\n",
      "[CV]  C=100, multi_class=multinomial, solver=newton-cg, score=0.754622, total=   0.6s\n",
      "[CV]  C=100, multi_class=multinomial, solver=newton-cg, score=0.746218, total=   0.6s\n",
      "[CV] C=100, multi_class=multinomial, solver=sag ......................\n",
      "[CV] C=100, multi_class=multinomial, solver=lbfgs ....................\n",
      "[CV]  C=100, multi_class=multinomial, solver=sag, score=0.756711, total=   0.3s\n",
      "[CV] C=100, multi_class=multinomial, solver=lbfgs ....................\n",
      "[CV]  C=100, multi_class=multinomial, solver=sag, score=0.746218, total=   0.3s\n",
      "[CV] C=100, multi_class=multinomial, solver=lbfgs ....................\n",
      "[CV]  C=100, multi_class=multinomial, solver=sag, score=0.754622, total=   0.3s\n",
      "[CV] C=1000, multi_class=ovr, solver=newton-cg .......................\n",
      "[CV]  C=100, multi_class=multinomial, solver=lbfgs, score=0.755872, total=   0.5s\n",
      "[CV] C=1000, multi_class=ovr, solver=newton-cg .......................\n",
      "[CV]  C=100, multi_class=multinomial, solver=lbfgs, score=0.748739, total=   0.6s\n",
      "[CV] C=1000, multi_class=ovr, solver=newton-cg .......................\n",
      "[CV]  C=100, multi_class=multinomial, solver=lbfgs, score=0.753782, total=   0.5s\n",
      "[CV] C=1000, multi_class=ovr, solver=sag .............................\n",
      "[CV]  C=1000, multi_class=ovr, solver=newton-cg, score=0.767617, total=   1.0s\n",
      "[CV] C=1000, multi_class=ovr, solver=sag .............................\n",
      "[CV]  C=1000, multi_class=ovr, solver=newton-cg, score=0.751261, total=   0.9s\n",
      "[CV]  C=1000, multi_class=ovr, solver=sag, score=0.767617, total=   0.6s\n",
      "[CV] C=1000, multi_class=ovr, solver=sag .............................\n",
      "[CV] C=1000, multi_class=ovr, solver=lbfgs ...........................\n"
     ]
    },
    {
     "name": "stderr",
     "output_type": "stream",
     "text": [
      "/anaconda/lib/python3.6/site-packages/sklearn/linear_model/sag.py:286: ConvergenceWarning: The max_iter was reached which means the coef_ did not converge\n",
      "  \"the coef_ did not converge\", ConvergenceWarning)\n"
     ]
    },
    {
     "name": "stdout",
     "output_type": "stream",
     "text": [
      "[CV]  C=1000, multi_class=ovr, solver=newton-cg, score=0.752101, total=   0.9s\n",
      "[CV] C=1000, multi_class=ovr, solver=lbfgs ...........................\n"
     ]
    },
    {
     "name": "stderr",
     "output_type": "stream",
     "text": [
      "/anaconda/lib/python3.6/site-packages/sklearn/linear_model/sag.py:286: ConvergenceWarning: The max_iter was reached which means the coef_ did not converge\n",
      "  \"the coef_ did not converge\", ConvergenceWarning)\n"
     ]
    },
    {
     "name": "stdout",
     "output_type": "stream",
     "text": [
      "[CV]  C=1000, multi_class=ovr, solver=sag, score=0.751261, total=   0.5s\n",
      "[CV] C=1000, multi_class=ovr, solver=lbfgs ...........................\n",
      "[CV]  C=1000, multi_class=ovr, solver=sag, score=0.752101, total=   0.4s\n",
      "[CV] C=1000, multi_class=multinomial, solver=newton-cg ...............\n",
      "[CV]  C=1000, multi_class=ovr, solver=lbfgs, score=0.767617, total=   0.5s\n",
      "[CV] C=1000, multi_class=multinomial, solver=newton-cg ...............\n",
      "[CV]  C=1000, multi_class=ovr, solver=lbfgs, score=0.751261, total=   0.6s\n",
      "[CV] C=1000, multi_class=multinomial, solver=newton-cg ...............\n",
      "[CV]  C=1000, multi_class=multinomial, solver=newton-cg, score=0.758389, total=   0.5s\n",
      "[CV] C=1000, multi_class=multinomial, solver=sag .....................\n",
      "[CV]  C=1000, multi_class=ovr, solver=lbfgs, score=0.752101, total=   0.7s\n",
      "[CV] C=1000, multi_class=multinomial, solver=sag .....................\n",
      "[CV]  C=1000, multi_class=multinomial, solver=newton-cg, score=0.746218, total=   0.6s\n",
      "[CV] C=1000, multi_class=multinomial, solver=sag .....................\n",
      "[CV]  C=1000, multi_class=multinomial, solver=sag, score=0.758389, total=   0.3s\n",
      "[CV] C=1000, multi_class=multinomial, solver=lbfgs ...................\n",
      "[CV]  C=1000, multi_class=multinomial, solver=sag, score=0.753782, total=   0.3s\n",
      "[CV]  C=1000, multi_class=multinomial, solver=sag, score=0.746218, total=   0.4s\n",
      "[CV] C=1000, multi_class=multinomial, solver=lbfgs ...................\n",
      "[CV] C=1000, multi_class=multinomial, solver=lbfgs ...................\n",
      "[CV]  C=1000, multi_class=multinomial, solver=newton-cg, score=0.753782, total=   1.0s\n",
      "[CV]  C=1000, multi_class=multinomial, solver=lbfgs, score=0.757550, total=   0.5s\n",
      "[CV]  C=1000, multi_class=multinomial, solver=lbfgs, score=0.749580, total=   0.3s\n",
      "[CV]  C=1000, multi_class=multinomial, solver=lbfgs, score=0.752101, total=   0.3s\n"
     ]
    },
    {
     "name": "stderr",
     "output_type": "stream",
     "text": [
      "[Parallel(n_jobs=-1)]: Done 126 out of 126 | elapsed:   12.1s finished\n"
     ]
    }
   ],
   "source": [
    "param_grid = {\n",
    "    'C': [0.001, 0.01, 0.1, 1, 10, 100, 1000] ,\n",
    "    'solver': ['newton-cg', 'sag', 'lbfgs'],\n",
    "    'multi_class': ['ovr', 'multinomial']\n",
    "}\n",
    "grid_search_cv = GridSearchCV(lr, param_grid, refit=True, verbose=3, n_jobs=-1)\n",
    "\n",
    "result = grid_search_cv.fit(X_train, y_train)"
   ]
  },
  {
   "cell_type": "code",
   "execution_count": 37,
   "metadata": {},
   "outputs": [],
   "source": [
    "best_params = result.best_params_"
   ]
  },
  {
   "cell_type": "code",
   "execution_count": 38,
   "metadata": {},
   "outputs": [],
   "source": [
    "lr = LogisticRegression(C=best_params['C'], solver=best_params['solver'], multi_class=best_params['multi_class'])"
   ]
  },
  {
   "cell_type": "code",
   "execution_count": 39,
   "metadata": {},
   "outputs": [
    {
     "data": {
      "text/plain": [
       "LogisticRegression(C=1000, class_weight=None, dual=False, fit_intercept=True,\n",
       "          intercept_scaling=1, max_iter=100, multi_class='ovr', n_jobs=1,\n",
       "          penalty='l2', random_state=None, solver='newton-cg', tol=0.0001,\n",
       "          verbose=0, warm_start=False)"
      ]
     },
     "execution_count": 39,
     "metadata": {},
     "output_type": "execute_result"
    }
   ],
   "source": [
    "lr.fit(X_train, y_train)"
   ]
  },
  {
   "cell_type": "code",
   "execution_count": 40,
   "metadata": {},
   "outputs": [],
   "source": [
    "pred = lr.predict(X_test)"
   ]
  },
  {
   "cell_type": "code",
   "execution_count": 41,
   "metadata": {},
   "outputs": [
    {
     "name": "stdout",
     "output_type": "stream",
     "text": [
      "             precision    recall  f1-score   support\n",
      "\n",
      "      dance       0.73      0.70      0.72       407\n",
      "       jazz       0.80      0.86      0.83       375\n",
      "        rap       0.75      0.75      0.75       335\n",
      "       rock       0.76      0.73      0.74       414\n",
      "\n",
      "avg / total       0.76      0.76      0.76      1531\n",
      "\n"
     ]
    }
   ],
   "source": [
    "print(classification_report(y_test, pred))"
   ]
  },
  {
   "cell_type": "markdown",
   "metadata": {},
   "source": [
    "# Select From Model Logistic Regression"
   ]
  },
  {
   "cell_type": "code",
   "execution_count": 42,
   "metadata": {
    "collapsed": true
   },
   "outputs": [],
   "source": [
    "from sklearn.feature_selection import SelectFromModel"
   ]
  },
  {
   "cell_type": "code",
   "execution_count": 43,
   "metadata": {},
   "outputs": [
    {
     "name": "stdout",
     "output_type": "stream",
     "text": [
      "             precision    recall  f1-score   support\n",
      "\n",
      "      dance       0.65      0.64      0.65       407\n",
      "       jazz       0.76      0.85      0.80       375\n",
      "        rap       0.73      0.70      0.72       335\n",
      "       rock       0.71      0.67      0.69       414\n",
      "\n",
      "avg / total       0.71      0.71      0.71      1531\n",
      "\n"
     ]
    }
   ],
   "source": [
    "sfm = SelectFromModel(lr, prefit=True)\n",
    "select_X_train = sfm.transform(X_train)\n",
    "select_X_test = sfm.transform(X_test)\n",
    "lr.fit(select_X_train, y_train)\n",
    "pred_y = lr.predict(select_X_test)\n",
    "print(classification_report(y_test, pred_y))"
   ]
  },
  {
   "cell_type": "markdown",
   "metadata": {},
   "source": [
    "# SFM for RFC"
   ]
  },
  {
   "cell_type": "code",
   "execution_count": 44,
   "metadata": {},
   "outputs": [
    {
     "name": "stdout",
     "output_type": "stream",
     "text": [
      "Thresh=0.004, n=17, Accuracy: 75.18%\n",
      "Thresh=0.005, n=16, Accuracy: 75.57%\n",
      "Thresh=0.009, n=15, Accuracy: 74.79%\n",
      "Thresh=0.022, n=14, Accuracy: 77.53%\n",
      "Thresh=0.023, n=13, Accuracy: 76.75%\n",
      "Thresh=0.026, n=12, Accuracy: 76.81%\n",
      "Thresh=0.029, n=11, Accuracy: 75.38%\n",
      "Thresh=0.030, n=10, Accuracy: 75.24%\n",
      "Thresh=0.043, n=9, Accuracy: 74.53%\n",
      "Thresh=0.059, n=8, Accuracy: 73.55%\n",
      "Thresh=0.062, n=7, Accuracy: 73.94%\n",
      "Thresh=0.074, n=6, Accuracy: 73.35%\n",
      "Thresh=0.078, n=5, Accuracy: 69.11%\n",
      "Thresh=0.095, n=4, Accuracy: 67.80%\n",
      "Thresh=0.137, n=3, Accuracy: 66.88%\n",
      "Thresh=0.149, n=2, Accuracy: 56.50%\n",
      "Thresh=0.154, n=1, Accuracy: 41.87%\n"
     ]
    }
   ],
   "source": [
    "thresholds = sort(rfc.feature_importances_)\n",
    "for thresh in thresholds:\n",
    "    selection = SelectFromModel(rfc, threshold=thresh, prefit=True)\n",
    "    select_X_train = selection.transform(X_train)\n",
    "    select_X_test = selection.transform(X_test)\n",
    "    \n",
    "    selection_model = RandomForestClassifier()\n",
    "    selection_model.fit(select_X_train, y_train)\n",
    "    \n",
    "    pred_y = selection_model.predict(select_X_test)\n",
    "    accuracy = accuracy_score(y_test, pred_y)\n",
    "    \n",
    "    print(\"Thresh=%.3f, n=%d, Accuracy: %.2f%%\" % (thresh, select_X_train.shape[1], accuracy*100.0))"
   ]
  },
  {
   "cell_type": "markdown",
   "metadata": {},
   "source": [
    "# RFE for RFC"
   ]
  },
  {
   "cell_type": "code",
   "execution_count": 45,
   "metadata": {},
   "outputs": [
    {
     "name": "stdout",
     "output_type": "stream",
     "text": [
      "             precision    recall  f1-score   support\n",
      "\n",
      "      dance       0.76      0.73      0.74       407\n",
      "       jazz       0.77      0.86      0.81       375\n",
      "        rap       0.79      0.81      0.80       335\n",
      "       rock       0.73      0.67      0.70       414\n",
      "\n",
      "avg / total       0.76      0.76      0.76      1531\n",
      "\n"
     ]
    }
   ],
   "source": [
    "rfe = RFE(estimator=rfc)\n",
    "rfe_model = rfe.fit(X_train, y_train)\n",
    "rfe_model.ranking_\n",
    "pred = rfe_model.predict(X_test)\n",
    "print(classification_report(y_test, pred))"
   ]
  },
  {
   "cell_type": "markdown",
   "metadata": {},
   "source": [
    "# RFE for LogReg\n"
   ]
  },
  {
   "cell_type": "code",
   "execution_count": 46,
   "metadata": {},
   "outputs": [
    {
     "name": "stdout",
     "output_type": "stream",
     "text": [
      "             precision    recall  f1-score   support\n",
      "\n",
      "      dance       0.68      0.66      0.67       407\n",
      "       jazz       0.78      0.86      0.82       375\n",
      "        rap       0.73      0.70      0.72       335\n",
      "       rock       0.73      0.71      0.72       414\n",
      "\n",
      "avg / total       0.73      0.73      0.73      1531\n",
      "\n"
     ]
    }
   ],
   "source": [
    "rfe = RFE(estimator=lr)\n",
    "rfe_model = rfe.fit(X_train, y_train)\n",
    "rfe_model.ranking_\n",
    "pred = rfe_model.predict(X_test)\n",
    "print(classification_report(y_test, pred))"
   ]
  },
  {
   "cell_type": "markdown",
   "metadata": {},
   "source": [
    "# SelectKBest For SVC"
   ]
  },
  {
   "cell_type": "code",
   "execution_count": 48,
   "metadata": {},
   "outputs": [
    {
     "name": "stdout",
     "output_type": "stream",
     "text": [
      "Index(['key', 'energy', 'liveliness'], dtype='object')\n",
      "             precision    recall  f1-score   support\n",
      "\n",
      "      dance       0.44      0.46      0.45       447\n",
      "       jazz       0.68      0.71      0.70       431\n",
      "        rap       0.33      0.54      0.41       367\n",
      "       rock       0.53      0.19      0.28       439\n",
      "\n",
      "avg / total       0.50      0.47      0.46      1684\n",
      "\n"
     ]
    }
   ],
   "source": [
    "skb = SelectKBest(k=5)\n",
    "X_new = skb.fit(X_train, y_train)\n",
    "df_labels = df_features.iloc[:, X_new.get_support(indices=True)].columns\n",
    "print(df_labels)\n",
    "test_df = pd.DataFrame(df_features, columns=df_labels)\n",
    "X_train, X_test, y_train, y_test = train_test_split(test_df, df_features_labels, test_size=0.33, random_state=42)\n",
    "svc = SVC(C=1, gamma=1)\n",
    "svc.fit(X_train, y_train)\n",
    "pred = svc.predict(X_test)\n",
    "print(classification_report(y_test, pred))"
   ]
  }
 ],
 "metadata": {
  "kernelspec": {
   "display_name": "Python 3",
   "language": "python",
   "name": "python3"
  },
  "language_info": {
   "codemirror_mode": {
    "name": "ipython",
    "version": 3
   },
   "file_extension": ".py",
   "mimetype": "text/x-python",
   "name": "python",
   "nbconvert_exporter": "python",
   "pygments_lexer": "ipython3",
   "version": "3.6.1"
  }
 },
 "nbformat": 4,
 "nbformat_minor": 2
}
